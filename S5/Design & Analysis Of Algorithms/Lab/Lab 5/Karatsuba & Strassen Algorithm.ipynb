{
  "nbformat": 4,
  "nbformat_minor": 0,
  "metadata": {
    "colab": {
      "name": "Karatsuba & Strassen Algorithm .ipynb",
      "provenance": [],
      "collapsed_sections": [],
      "toc_visible": true
    },
    "kernelspec": {
      "name": "python3",
      "display_name": "Python 3"
    },
    "language_info": {
      "name": "python"
    }
  },
  "cells": [
    {
      "cell_type": "markdown",
      "metadata": {
        "id": "YlOersLp6_BB"
      },
      "source": [
        "# Karatsuba Algorithm"
      ]
    },
    {
      "cell_type": "code",
      "metadata": {
        "id": "jzhz3CJPtg07"
      },
      "source": [
        "def Karatsuba(x, y):\n",
        "\n",
        "  if len(str(x)) == 1 or len(str(y)) == 1:\n",
        "\n",
        "    return x * y\n",
        "\n",
        "  l = max(len(str(x)), len(str(y)))\n",
        "\n",
        "  length = l // 2\n",
        "\n",
        "  x1 = x // 10 ** length\n",
        "  x2 = x % 10 ** length\n",
        "\n",
        "  y1 = y // 10 ** length\n",
        "  y2 = y % 10 ** length\n",
        "\n",
        "  x1_y1 = Karatsuba(x1, y1)\n",
        "  x2_y2 = Karatsuba(x2, y2)\n",
        "\n",
        "  sum = Karatsuba(x1 + x2, y1 + y2) - x1_y1 - x2_y2\n",
        "\n",
        "  return x1_y1 * (10 ** ( 2 * length)) + sum * (10 ** length) + x2_y2"
      ],
      "execution_count": 17,
      "outputs": []
    },
    {
      "cell_type": "code",
      "metadata": {
        "colab": {
          "base_uri": "https://localhost:8080/"
        },
        "id": "sVu77sMPvMMz",
        "outputId": "990b1f78-8834-401a-e3b0-a001d8c781ed"
      },
      "source": [
        "print(\"\\nAnswer :\", Karatsuba(int(input(\"Enter the Number 1 : \")), int(input(\"\\nEnter the Number 2 : \"))))"
      ],
      "execution_count": 18,
      "outputs": [
        {
          "output_type": "stream",
          "name": "stdout",
          "text": [
            "Enter the Number 1 : 1050\n",
            "\n",
            "Enter the Number 2 : 2050\n",
            "\n",
            "Answer : 2152500\n"
          ]
        }
      ]
    },
    {
      "cell_type": "markdown",
      "metadata": {
        "id": "Y_teSpp47D9g"
      },
      "source": [
        "# Strassen Algorithm"
      ]
    },
    {
      "cell_type": "markdown",
      "metadata": {
        "id": "ZCrMFXRwqVv0"
      },
      "source": [
        "```\n",
        "Matrix A = | a b |\n",
        "           | c d |             \n",
        "\n",
        "Matrix B = | e f |\n",
        "           | g h |\n",
        "\n",
        "P1 = a * (f - h)\n",
        "\n",
        "P2 = (a + b) * h\n",
        "\n",
        "P3 = (c + d) * e\n",
        "\n",
        "P4 = d * (g - e)\n",
        "\n",
        "P5 = (a + d) * (e + h)\n",
        "\n",
        "P6 = (b - d) * (g + h)\n",
        "\n",
        "P7 = (a - c) * (e + f)\n",
        "\n",
        "matrix C = | P5 + P4 - P2 + P6         P1 + P2     |\n",
        "           |   P3 + P4           P1 + P5 - P3 - P7 | \n",
        "```"
      ]
    },
    {
      "cell_type": "code",
      "metadata": {
        "id": "52L0C53l7HZD"
      },
      "source": [
        "def add(m1, m2):\n",
        "\n",
        "  if type(m1) == int:\n",
        "\n",
        "    return m1 + m2\n",
        "\n",
        "  else:\n",
        "\n",
        "    n = len(m1)\n",
        "\n",
        "    return [[m1[j][i] + m2[j][i] for i in range(n)] for j in range(n)]"
      ],
      "execution_count": 19,
      "outputs": []
    },
    {
      "cell_type": "code",
      "metadata": {
        "id": "ZEy9yH6AqIGL"
      },
      "source": [
        "def sub(m1, m2):\n",
        "\n",
        "  if type(m1) == int:\n",
        "\n",
        "    return m1 - m2\n",
        "\n",
        "  else:\n",
        "\n",
        "    n = len(m1)\n",
        "\n",
        "    return [[m1[j][i] - m2[j][i] for i in range(n)] for j in range(n)]"
      ],
      "execution_count": 20,
      "outputs": []
    },
    {
      "cell_type": "code",
      "metadata": {
        "id": "hI2aP671qT4B"
      },
      "source": [
        "def Strassen(m1, m2):\n",
        "\n",
        "  n = len(m1)\n",
        "\n",
        "  half = n // 2\n",
        "\n",
        "  if n == 1:\n",
        "\n",
        "    return m1[0][0] * m2[0][0]\n",
        "\n",
        "  A = [[m1[i][j] for j in range(half)] for i in range(half)]\n",
        "  B = [[m1[i][j] for j in range(half, n)] for i in range(half)]\n",
        "  C = [[m1[i][j] for j in range(half)] for i in range(half, n)]\n",
        "  D = [[m1[i][j] for j in range(half, n)] for i in range(half, n)]  \n",
        "\n",
        "  E = [[m2[i][j] for j in range(half)] for i in range(half)]\n",
        "  F = [[m2[i][j] for j in range(half, n)] for i in range(half)]\n",
        "  G = [[m2[i][j] for j in range(half)] for i in range(half, n)]\n",
        "  H = [[m2[i][j] for j in range(half, n)] for i in range(half, n)]\n",
        "\n",
        "  P1 = Strassen(A, sub(F, H))\n",
        "  P2 = Strassen(add(A, B), H)\n",
        "  P3 = Strassen(add(C, D), E)\n",
        "  P4 = Strassen(D, sub(G, E))\n",
        "  P5 = Strassen(add(A, D), add(E, H))\n",
        "  P6 = Strassen(sub(B, D), add(G, H))\n",
        "  P7 = Strassen(sub(A, C), add(E, F))  \n",
        "\n",
        "  LU = add(sub(add(P5, P4), P2), P6)\n",
        "  LL = add(P3, P4)\n",
        "  RU = add(P1, P2)\n",
        "  RL = sub(sub(add(P1, P5), P3), P7)\n",
        "\n",
        "  if n > 2:\n",
        "\n",
        "    m = [[ 0 for i in range(n)] for j in range(n)]\n",
        "\n",
        "    for i in range(half):\n",
        "      \n",
        "      for j in range(half):\n",
        "      \n",
        "        m[i][j] = LU[i][j]\n",
        "        m[i + half][j] = LL[i][j]\n",
        "\n",
        "        m[i][j + half] = RU[i][j]\n",
        "        m[i + half][j + half] = RL[i][j]\n",
        "      \n",
        "    return m\n",
        "\n",
        "  else:\n",
        "\n",
        "    return [[LU, RU], [LL, RL]]"
      ],
      "execution_count": 21,
      "outputs": []
    },
    {
      "cell_type": "code",
      "metadata": {
        "colab": {
          "base_uri": "https://localhost:8080/"
        },
        "id": "dl9O0MNl2mkk",
        "outputId": "15b6aa2a-0ae5-42a1-fed3-b3896af1c652"
      },
      "source": [
        "m1 = [(1,2,3,4),\n",
        "      (5,6,7,8),\n",
        "      (9,10,11,12),\n",
        "      (13,14,15,16)]\n",
        "\n",
        "m2 = [(21,22,23,24),\n",
        "      (25,26,27,28),\n",
        "      (29,30,31,32),\n",
        "      (33,34,35,36)]\n",
        "\n",
        "m = Strassen(m1, m2)\n",
        "\n",
        "for i in range(len(m1)):\n",
        "\n",
        "  for j in range(len(m1[0])):\n",
        "\n",
        "    print(m[i][j], end = \"   \")\n",
        "\n",
        "  print()"
      ],
      "execution_count": 23,
      "outputs": [
        {
          "output_type": "stream",
          "name": "stdout",
          "text": [
            "290   300   310   320   \n",
            "722   748   774   800   \n",
            "1154   1196   1238   1280   \n",
            "1586   1644   1702   1760   \n"
          ]
        }
      ]
    }
  ]
}