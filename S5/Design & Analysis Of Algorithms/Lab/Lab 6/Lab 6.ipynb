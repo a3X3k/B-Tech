{
  "nbformat": 4,
  "nbformat_minor": 0,
  "metadata": {
    "colab": {
      "name": "DAA Lab 6.ipynb",
      "provenance": [],
      "toc_visible": true
    },
    "kernelspec": {
      "name": "python3",
      "display_name": "Python 3"
    },
    "language_info": {
      "name": "python"
    }
  },
  "cells": [
    {
      "cell_type": "markdown",
      "metadata": {
        "id": "JRSUwohAlJc5"
      },
      "source": [
        "# BFS of Directed Graph"
      ]
    },
    {
      "cell_type": "code",
      "metadata": {
        "colab": {
          "base_uri": "https://localhost:8080/"
        },
        "id": "_qRvA_5IiXDD",
        "outputId": "5ae55e29-cda1-4ccb-a67f-cb1b218ca8e0"
      },
      "source": [
        "graph = {\n",
        "    \n",
        "  '5' : ['3','7'],\n",
        "  '3' : ['2', '4'],\n",
        "  '7' : ['8'],\n",
        "  '2' : [],\n",
        "  '4' : ['8'],\n",
        "  '8' : []\n",
        "\n",
        "}\n",
        "\n",
        "v = []\n",
        "q = []\n",
        "\n",
        "def BFS(v, graph, node):\n",
        "\n",
        "  v.append(node)\n",
        "\n",
        "  q.append(node)\n",
        "\n",
        "  while q:   \n",
        "           \n",
        "    m = q.pop(0) \n",
        "\n",
        "    print (m, end = \" \") \n",
        "\n",
        "    for neighbour in graph[m]:\n",
        "\n",
        "      if neighbour not in v:\n",
        "\n",
        "        v.append(neighbour)\n",
        "\n",
        "        q.append(neighbour)\n",
        "\n",
        "\n",
        "if __name__ == \"__main__\":\n",
        "\n",
        "  print(\"BFS : \",end = \" \")\n",
        "  \n",
        "  BFS(v, graph, '5')"
      ],
      "execution_count": 4,
      "outputs": [
        {
          "output_type": "stream",
          "name": "stdout",
          "text": [
            "BFS :  5 3 7 2 4 8 "
          ]
        }
      ]
    },
    {
      "cell_type": "markdown",
      "metadata": {
        "id": "HFxzLjqlnW2F"
      },
      "source": [
        "# BFS of Undirected Graph"
      ]
    },
    {
      "cell_type": "code",
      "metadata": {
        "colab": {
          "base_uri": "https://localhost:8080/"
        },
        "id": "EyaS35qVnZkW",
        "outputId": "511141ff-fc5a-4eea-e399-78c5fb55bd10"
      },
      "source": [
        "graph = {\n",
        "    \n",
        "  '5' : ['3','7'],\n",
        "  '3' : ['2', '4', '5'],\n",
        "  '7' : ['5', '8'],\n",
        "  '2' : ['3'],\n",
        "  '4' : ['3', '8'],\n",
        "  '8' : ['4', '7']\n",
        "\n",
        "}\n",
        "\n",
        "v = []\n",
        "q = []\n",
        "\n",
        "def BFS(v, graph, node):\n",
        "\n",
        "  v.append(node)\n",
        "\n",
        "  q.append(node)\n",
        "\n",
        "  while q:   \n",
        "           \n",
        "    m = q.pop(0) \n",
        "\n",
        "    print (m, end = \" \") \n",
        "\n",
        "    for neighbour in graph[m]:\n",
        "\n",
        "      if neighbour not in v:\n",
        "\n",
        "        v.append(neighbour)\n",
        "\n",
        "        q.append(neighbour)\n",
        "\n",
        "\n",
        "if __name__ == \"__main__\":\n",
        "\n",
        "  print(\"BFS : \",end = \" \")\n",
        "  \n",
        "  BFS(v, graph, '5')"
      ],
      "execution_count": 5,
      "outputs": [
        {
          "output_type": "stream",
          "name": "stdout",
          "text": [
            "BFS :  5 3 7 2 4 8 "
          ]
        }
      ]
    },
    {
      "cell_type": "markdown",
      "metadata": {
        "id": "2nUQgXH2rHZI"
      },
      "source": [
        "# DFS of Directed Graph"
      ]
    },
    {
      "cell_type": "code",
      "metadata": {
        "colab": {
          "base_uri": "https://localhost:8080/"
        },
        "id": "Pmaw9G2OqLqE",
        "outputId": "5874a511-e28a-48ee-9204-7aebf79be6cf"
      },
      "source": [
        "graph = {\n",
        "    \n",
        "  '5' : ['3','7'],\n",
        "  '3' : ['2', '4'],\n",
        "  '7' : ['8'],\n",
        "  '2' : [],\n",
        "  '4' : ['8'],\n",
        "  '8' : []\n",
        "\n",
        "}\n",
        "\n",
        "v = set()\n",
        "\n",
        "def DFS(visited, graph, node):\n",
        "\n",
        "    if node not in v:\n",
        "\n",
        "        print(node, end = \" \")\n",
        "\n",
        "        v.add(node)\n",
        "\n",
        "        for neighbour in graph[node]:\n",
        "\n",
        "            DFS(v, graph, neighbour)\n",
        "\n",
        "\n",
        "if __name__ == \"__main__\":\n",
        "\n",
        "  print(\"DFS : \",end = \" \")\n",
        "\n",
        "  DFS(visited, graph,'5')"
      ],
      "execution_count": 9,
      "outputs": [
        {
          "output_type": "stream",
          "name": "stdout",
          "text": [
            "DFS :  5 3 2 4 8 7 "
          ]
        }
      ]
    },
    {
      "cell_type": "markdown",
      "metadata": {
        "id": "lvP4KhPMrPcT"
      },
      "source": [
        "# DFS of Undirected Graph"
      ]
    },
    {
      "cell_type": "code",
      "metadata": {
        "colab": {
          "base_uri": "https://localhost:8080/"
        },
        "id": "ucgysLW7rRWm",
        "outputId": "daa42540-a00a-4af0-8553-e843cc1873bd"
      },
      "source": [
        "graph = {\n",
        "    \n",
        "  '5' : ['3','7'],\n",
        "  '3' : ['2', '4', '5'],\n",
        "  '7' : ['5', '8'],\n",
        "  '2' : ['3'],\n",
        "  '4' : ['3', '8'],\n",
        "  '8' : ['4', '7']\n",
        "\n",
        "}\n",
        "\n",
        "v = set()\n",
        "\n",
        "def DFS(visited, graph, node):\n",
        "\n",
        "    if node not in v:\n",
        "\n",
        "        print(node, end = \" \")\n",
        "\n",
        "        v.add(node)\n",
        "\n",
        "        for neighbour in graph[node]:\n",
        "\n",
        "            DFS(v, graph, neighbour)\n",
        "\n",
        "\n",
        "if __name__ == \"__main__\":\n",
        "\n",
        "  print(\"DFS : \",end = \" \")\n",
        "\n",
        "  DFS(visited, graph,'5')"
      ],
      "execution_count": 10,
      "outputs": [
        {
          "output_type": "stream",
          "name": "stdout",
          "text": [
            "DFS :  5 3 2 4 8 7 "
          ]
        }
      ]
    },
    {
      "cell_type": "markdown",
      "metadata": {
        "id": "rAG4s9KHQo5l"
      },
      "source": [
        "# Trace the Node\n"
      ]
    },
    {
      "cell_type": "code",
      "metadata": {
        "colab": {
          "base_uri": "https://localhost:8080/"
        },
        "id": "IEqXX191Qrtp",
        "outputId": "ee59b41f-d7a5-4a5d-bcee-46ea0fabbde9"
      },
      "source": [
        "graph = {\n",
        "    \n",
        "  '5' : ['3','7'],\n",
        "  '3' : ['2', '4'],\n",
        "  '7' : ['8'],\n",
        "  '2' : [],\n",
        "  '4' : ['8'],\n",
        "  '8' : []\n",
        "\n",
        "}\n",
        "\n",
        "v = []\n",
        "q = []\n",
        "\n",
        "def BFS(v, graph, node):\n",
        "\n",
        "  v = []\n",
        "  q = []\n",
        "\n",
        "  v.append(node)\n",
        "\n",
        "  q.append(node)\n",
        "\n",
        "  while q:   \n",
        "           \n",
        "    m = q.pop(0)  \n",
        "\n",
        "    for neighbour in graph[m]:\n",
        "\n",
        "      if neighbour not in v:\n",
        "\n",
        "        v.append(neighbour)\n",
        "\n",
        "        q.append(neighbour)\n",
        "\n",
        "  v.pop(0)\n",
        "\n",
        "  print(f\"When Source is {node} : {v}\")\n",
        "\n",
        "\n",
        "if __name__ == \"__main__\":\n",
        "\n",
        "  for i in list(graph.keys()):\n",
        "\n",
        "    BFS(v, graph, i)"
      ],
      "execution_count": 14,
      "outputs": [
        {
          "output_type": "stream",
          "name": "stdout",
          "text": [
            "When Source is 5 : ['3', '7', '2', '4', '8']\n",
            "When Source is 3 : ['2', '4', '8']\n",
            "When Source is 7 : ['8']\n",
            "When Source is 2 : []\n",
            "When Source is 4 : ['8']\n",
            "When Source is 8 : []\n"
          ]
        }
      ]
    }
  ]
}