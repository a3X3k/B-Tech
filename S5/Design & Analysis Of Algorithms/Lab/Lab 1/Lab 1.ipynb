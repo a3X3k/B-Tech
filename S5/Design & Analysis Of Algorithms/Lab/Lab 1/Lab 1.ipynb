{
  "nbformat": 4,
  "nbformat_minor": 0,
  "metadata": {
    "colab": {
      "name": "DAA Lab 1",
      "provenance": [],
      "collapsed_sections": [],
      "toc_visible": true
    },
    "kernelspec": {
      "display_name": "Python 3",
      "name": "python3"
    }
  },
  "cells": [
    {
      "cell_type": "markdown",
      "metadata": {
        "id": "F5Nh_IQ43ANf"
      },
      "source": [
        "```\n",
        "S Abhishek AM.EN.U4CSE19147\n",
        "```"
      ]
    },
    {
      "cell_type": "markdown",
      "metadata": {
        "id": "2DeBeTKzvlW4"
      },
      "source": [
        "# 0 - Pre Lab - Paranthesis Matching"
      ]
    },
    {
      "cell_type": "markdown",
      "metadata": {
        "id": "rKJVJkRAvp2d"
      },
      "source": [
        "Add a code cell and implement the parenthesis matching algorithm. Test your code"
      ]
    },
    {
      "cell_type": "code",
      "metadata": {
        "colab": {
          "base_uri": "https://localhost:8080/"
        },
        "id": "s5xNZ-vkvpnD",
        "outputId": "a81eb119-c641-405a-a5db-4e7f60b38b50"
      },
      "source": [
        "def check(x):\n",
        "    c = 0\n",
        "    for i in x:\n",
        "        if i == \"(\":\n",
        "            c += 1\n",
        "        elif i == \")\":\n",
        "            c -= 1\n",
        "        if c < 0:\n",
        "            return False\n",
        "    \n",
        "    if c == 0:\n",
        "      return True\n",
        "    else:\n",
        "      return False\n",
        "\n",
        "if __name__ == '__main__':\n",
        "  x = input(\"Enter the String : \")\n",
        "  \n",
        "  if check(x) == True:\n",
        "    print(\"Yay! Balanced :)\")\n",
        "  else:\n",
        "    print(\"No! Not Balanced :(\")"
      ],
      "execution_count": 6,
      "outputs": [
        {
          "output_type": "stream",
          "text": [
            "Enter the String : (((())))\n",
            "Yay! Balanced :)\n"
          ],
          "name": "stdout"
        }
      ]
    },
    {
      "cell_type": "markdown",
      "metadata": {
        "id": "uYV9oHI0JDZx"
      },
      "source": [
        "# 1 - Fibonnaci Series\n"
      ]
    },
    {
      "cell_type": "markdown",
      "metadata": {
        "id": "xDGCR4QitwTK"
      },
      "source": [
        "Write a program to compute the nth Fibonacci number using, \n",
        "\n",
        "1. Iterative Fibonacci Algorithm\n",
        "\n",
        "2. Recursive Fibonacci Algorithm"
      ]
    },
    {
      "cell_type": "code",
      "metadata": {
        "id": "6ZAuuRwCtlmh",
        "colab": {
          "base_uri": "https://localhost:8080/",
          "height": 313
        },
        "outputId": "7888a988-049d-4235-b0b6-bc7a680f2d55"
      },
      "source": [
        "import matplotlib.pyplot as p \n",
        "\n",
        "count = 0 \n",
        "\n",
        "def Iterative(n): # Iterative Algorithm\n",
        "  x = 0\n",
        "  y = 1\n",
        "  \n",
        "  if n == 0 or n == 1:\n",
        "    return n\n",
        "\n",
        "  for i in range(0,n-1):\n",
        "    z = x + y\n",
        "    x = y\n",
        "    y = z\n",
        "  \n",
        "  return y \n",
        "\n",
        "\n",
        "def Recursive(n): # Recursive Algorithm\n",
        "    global count\n",
        "    count += 1\n",
        "    if n == 0 or n == 1:\n",
        "        return n\n",
        "    return Recursive(n-1) + Recursive(n-2)\n",
        "\n",
        "\n",
        "if __name__ == '__main__':  \n",
        "  \n",
        "  nos = [1,2,3,4,5,6,7,8,9,10] # List of 10 Numbers\n",
        "  \n",
        "  I_Count = [] # List to store the Counter of Iterative Algorithm\n",
        "  R_Count = [] # List to store the Counter of Recursive Algorithm\n",
        "  \n",
        "  bit = [] # List to store the Bit Length\n",
        "  \n",
        "  print(\"Fibonacci Series : \",end=\"\")\n",
        "  \n",
        "  for i in nos:\n",
        "    \n",
        "    print(Iterative(i),end = \" \")\n",
        "    \n",
        "    I_Count.append(i-1) # Append the Counter of Iterative Algorithm to the List\n",
        "\n",
        "    count = 0 # Reset Count each time\n",
        "    Recursive(i) # Call the Recursive Function\n",
        "    \n",
        "    R_Count.append(count) # Append the Counter of Recursive Algorithm to the List\n",
        "    bit.append(i.bit_length()) # Append Bit Length to the List\n",
        "\n",
        "print(\"\\n\")\n",
        "\n",
        "# Graph Plotting\n",
        "\n",
        "p.plot(bit, I_Count, label=\"Fibonacci Iteration\") # Plotting X and Y co-ordinates\n",
        "p.plot(bit, R_Count, label = \"Fibonacci Recursion\") # Plotting X and Y co-ordinates\n",
        "\n",
        "p.xlabel(\"Bit length\") # Labelling X Axis\n",
        "p.ylabel(\"Counter\") # Labelling Y Axis\n",
        "\n",
        "p.legend() # Area describing the elements of the Graph\n",
        "p.show() # Display the Graph"
      ],
      "execution_count": 15,
      "outputs": [
        {
          "output_type": "stream",
          "text": [
            "Fibonacci Series : 1 1 2 3 5 8 13 21 34 55 \n",
            "\n"
          ],
          "name": "stdout"
        },
        {
          "output_type": "display_data",
          "data": {
            "image/png": "[encoded data removed]",
            "text/plain": [
              "<Figure size 432x288 with 1 Axes>"
            ]
          },
          "metadata": {
            "tags": [],
            "needs_background": "light"
          }
        }
      ]
    },
    {
      "cell_type": "markdown",
      "metadata": {
        "id": "COM7P3MXJWtz"
      },
      "source": [
        "# 2 - GCD of 2 Numbers"
      ]
    },
    {
      "cell_type": "markdown",
      "metadata": {
        "id": "8yOLXwGeJjPt"
      },
      "source": [
        "Write a program to find the Greatest Common Divisor (GCD) of two numbers using,\n",
        "\n",
        "1. Euclid’s algorithm\n",
        "\n",
        "2. Euclidean algorithm\n",
        "\n",
        "3. Binary GCD algorithm\n",
        "\n",
        "Count the number of iterations/recursions for each input. Plot the operation count against the bit length of largest among the two input numbers."
      ]
    },
    {
      "cell_type": "code",
      "metadata": {
        "colab": {
          "base_uri": "https://localhost:8080/",
          "height": 279
        },
        "id": "qoKnBjaWKMoY",
        "outputId": "551604fd-18af-4ea0-ca6d-fa82b8a1749b"
      },
      "source": [
        "import matplotlib.pyplot as p \n",
        "\n",
        "count = 0\n",
        "\n",
        "def Euclid(x,y): # Euclid’s Algorithm\n",
        "  global count\n",
        "  while(x != y):\n",
        "    count += 1\n",
        "    if (x > y):\n",
        "      x = x - y\n",
        "    else:\n",
        "      y = y - x;\n",
        "\n",
        "  return x\n",
        "\n",
        "\n",
        "def Euclidean(x,y): # Euclidean Algorithm\n",
        "    global count\n",
        "    count += 1\n",
        "    if x == 0:\n",
        "        return y\n",
        "    \n",
        "    return Euclidean(y%x, x)\n",
        "\n",
        "\n",
        "def Binary(x,y): # Binary GCD Algorithm\n",
        "    global count\n",
        "    count += 1\n",
        "\n",
        "    if x == y: # Gcd(n, n) = n\n",
        "      return x\n",
        "\n",
        "    if x == 0: # Gcd(0, n) = n\n",
        "      return y\n",
        "\n",
        "    if y == 0: # Gcd(n, 0) = n\n",
        "      return x\n",
        "\n",
        "    if x%2 == 0 and y%2 == 0: # Both x and y are even\n",
        "      return 2*Binary(x/2,y/2)\n",
        "\n",
        "    if x%2 == 0 and y%2 == 1: # x is Even and y is Odd\n",
        "      return Binary(x/2,y)\n",
        "\n",
        "    if x%2 == 1 and y%2 == 0: # x is Odd and y is Even\n",
        "      return Binary(x,y/2)\n",
        "\n",
        "    if x > y:\n",
        "      return Binary((x - y)/2, y);\n",
        "    \n",
        "    if x < y:\n",
        "      return Binary((y - x)/2, x);      \n",
        "\n",
        "\n",
        "if __name__ == '__main__':  \n",
        "\n",
        "  Euclid_C = []\n",
        "  Euclidean_C = []\n",
        "  Binary_C = []\n",
        "  bit = []\n",
        "\n",
        "  count = 0\n",
        "  Euclid(1,2)\n",
        "  Euclid_C.append(count)\n",
        "\n",
        "  count = 0\n",
        "  Euclidean(1,2)\n",
        "  Euclidean_C.append(count)\n",
        "\n",
        "  count = 0\n",
        "  Binary(1,2)\n",
        "  Binary_C.append(count)\n",
        "\n",
        "  bit.append((2).bit_length())\n",
        "\n",
        "\n",
        "  count = 0\n",
        "  Euclid(3,4)\n",
        "  Euclid_C.append(count)\n",
        "\n",
        "  count = 0\n",
        "  Euclidean(3,4)\n",
        "  Euclidean_C.append(count)\n",
        "\n",
        "  count = 0\n",
        "  Binary(3,4)\n",
        "  Binary_C.append(count)\n",
        "\n",
        "  bit.append((4).bit_length())\n",
        "\n",
        "\n",
        "  count = 0\n",
        "  Euclid(6,9)\n",
        "  Euclid_C.append(count)\n",
        "\n",
        "  count = 0\n",
        "  Euclidean(6,9)\n",
        "  Euclidean_C.append(count)\n",
        "\n",
        "  count = 0\n",
        "  Binary(6,9)\n",
        "  Binary_C.append(count)\n",
        "\n",
        "  bit.append((9).bit_length())\n",
        "\n",
        "\n",
        "  count = 0\n",
        "  Euclid(10,23)\n",
        "  Euclid_C.append(count)\n",
        "\n",
        "  count = 0\n",
        "  Euclidean(10,23)\n",
        "  Euclidean_C.append(count)\n",
        "\n",
        "  count = 0\n",
        "  Binary(10,23)\n",
        "  Binary_C.append(count)\n",
        "\n",
        "  bit.append((23).bit_length())\n",
        "\n",
        "\n",
        "  count = 0\n",
        "  Euclid(11,22)\n",
        "  Euclid_C.append(count)\n",
        "\n",
        "  count = 0\n",
        "  Euclidean(11,22)\n",
        "  Euclidean_C.append(count)\n",
        "\n",
        "  count = 0\n",
        "  Binary(11,22)\n",
        "  Binary_C.append(count)\n",
        "\n",
        "  bit.append((22).bit_length())\n",
        "\n",
        "\n",
        "  count = 0\n",
        "  Euclid(10,25)\n",
        "  Euclid_C.append(count)\n",
        "\n",
        "  count = 0\n",
        "  Euclidean(10,25)\n",
        "  Euclidean_C.append(count)\n",
        "\n",
        "  count = 0\n",
        "  Binary(10,25)\n",
        "  Binary_C.append(count)\n",
        "\n",
        "  bit.append((25).bit_length())\n",
        "\n",
        "  \n",
        "  # Graph Plotting\n",
        "\n",
        "  p.plot(bit, Euclid_C, label=\"Euclid\") # Plotting X and Y co-ordinates\n",
        "  p.plot(bit, Euclidean_C, label = \"Euclidean\") # Plotting X and Y co-ordinates\n",
        "  p.plot(bit, Binary_C, label = \"Binary GCD\") # Plotting X and Y co-ordinates\n",
        "\n",
        "  p.xlabel(\"Bit length\") # Labelling X Axis\n",
        "  p.ylabel(\"Counter\") # Labelling Y Axis\n",
        "\n",
        "  p.legend() # Area describing the elements of the Graph  \n",
        "  p.show() # Display the Graph"
      ],
      "execution_count": 8,
      "outputs": [
        {
          "output_type": "display_data",
          "data": {
            "image/png": "[encoded data removed]",
            "text/plain": [
              "<Figure size 432x288 with 1 Axes>"
            ]
          },
          "metadata": {
            "tags": [],
            "needs_background": "light"
          }
        }
      ]
    },
    {
      "cell_type": "markdown",
      "metadata": {
        "id": "F5Tt6s9Vk5Fh"
      },
      "source": [
        "# 3 - Worst & Best Case of 3 GCD\n"
      ]
    },
    {
      "cell_type": "markdown",
      "metadata": {
        "id": "V-vzNUrelFEc"
      },
      "source": [
        "For each of the three gcd algorithms, identify the best case and worst case inputs and find the running times in each case. Write your answers in a text cell.\n"
      ]
    },
    {
      "cell_type": "markdown",
      "metadata": {
        "id": "VQjpjgkLxCJf"
      },
      "source": [
        "**Euclidean algorithm**\n",
        "\n",
        "*   Best case is when y = 0\n",
        "*   Worst case is when two inputs are consecutive Fibonacci numbers\n",
        "*   Running time is O(log(min(x, y))\n",
        "\n",
        "**Euclid algorithm**\n",
        "\n",
        "*  Best case is when x = 0 (or) y = 0 (or) x = y\n",
        "*  Worst case is when one of the inputs is 1\n",
        "*  Running time is O(x + y)\n",
        "\n",
        "**Binary GCD algorithm**\n",
        "\n",
        "*  Best case is when x or y is 0 or x = y\n",
        "*  Running time is O(log n) and for very large integers, O((log n)^2)"
      ]
    },
    {
      "cell_type": "markdown",
      "metadata": {
        "id": "oBKCB8EAlAcm"
      },
      "source": [
        "# 4 - Determine if N is Prime"
      ]
    },
    {
      "cell_type": "markdown",
      "metadata": {
        "id": "IrGfQcTOlMGw"
      },
      "source": [
        "Write a program to determine if a positive integer, N, is prime. Write the answers for the following questions in a text cell.\n",
        "\n",
        "a. In terms of N, what is the worst-case running time of your program?\n",
        "\n",
        "b. Let B equal the number of bits in the binary representation of N. What is the value of B? (as a function of N)\n",
        "\n",
        "c. In terms of B, what is the worst-case running time of your program?"
      ]
    },
    {
      "cell_type": "code",
      "metadata": {
        "colab": {
          "base_uri": "https://localhost:8080/"
        },
        "id": "w_NgCYEDlUe7",
        "outputId": "6a35e22a-6bfc-4205-b9a4-03cf79096a8e"
      },
      "source": [
        "def prime(x):\n",
        "  \n",
        "  if x > 1:\n",
        "\n",
        "    for i in range(2, int(x/2)+1):\n",
        "        if (x % i) == 0:\n",
        "            return False\n",
        "            break    \n",
        "    return True\n",
        "  \n",
        "  else:\n",
        "\n",
        "    return False\n",
        "\n",
        "\n",
        "if __name__ == '__main__': \n",
        "  \n",
        "  n = int(input(\"Enter the N : \"))\n",
        "  \n",
        "  if prime(n) == True:\n",
        "    print(\"It's a Prime! :)\")\n",
        "  else:\n",
        "    print(\"It's not a Prime! :(\")\n"
      ],
      "execution_count": 11,
      "outputs": [
        {
          "output_type": "stream",
          "text": [
            "Enter the N : 37\n",
            "It's a Prime! :)\n"
          ],
          "name": "stdout"
        }
      ]
    },
    {
      "cell_type": "markdown",
      "metadata": {
        "id": "QnGepl7AyCE4"
      },
      "source": [
        "a. In terms of N, the worst case running time is **O(N)**\n",
        "\n",
        "b. If B equal the number of bits in the binary representation of N then the value of B as a function of N is **log(N)**\n",
        "\n",
        "c. In terms of B, the worst-case running time is **2^B**"
      ]
    },
    {
      "cell_type": "markdown",
      "metadata": {
        "id": "pzbF4wEEi7eY"
      },
      "source": [
        "# 5 - Sieve of Eratosthenes"
      ]
    },
    {
      "cell_type": "markdown",
      "metadata": {
        "id": "4AlKh3lfjC3H"
      },
      "source": [
        "Write a program to compute all primes up to and including n. (The Sieve of Eratosthenes method)"
      ]
    },
    {
      "cell_type": "code",
      "metadata": {
        "colab": {
          "base_uri": "https://localhost:8080/"
        },
        "id": "H7GEoTu_i4h8",
        "outputId": "7fc06712-e654-46c5-f2a7-8c2dee477b7b"
      },
      "source": [
        "# Sieve of Eratosthenes Method for computing Primes\n",
        "\n",
        "def prime(x):\n",
        "  not_prime = []\n",
        "  prime = []\n",
        "  for i in range (2,x+1):\n",
        "    if i not in not_prime:\n",
        "      prime.append(i)\n",
        "\n",
        "      for j in range(i*i,x+1,i):\n",
        "        not_prime.append(j)\n",
        "\n",
        "  return prime\n",
        "\n",
        "if __name__ == '__main__':  \n",
        "  n = int(input(\"Enter the N : \"))\n",
        "  print(\"Primes till\",n,':',prime(n))"
      ],
      "execution_count": 10,
      "outputs": [
        {
          "output_type": "stream",
          "text": [
            "Enter the N : 100\n",
            "Primes till 100 : [2, 3, 5, 7, 11, 13, 17, 19, 23, 29, 31, 37, 41, 43, 47, 53, 59, 61, 67, 71, 73, 79, 83, 89, 97]\n"
          ],
          "name": "stdout"
        }
      ]
    }
  ]
}