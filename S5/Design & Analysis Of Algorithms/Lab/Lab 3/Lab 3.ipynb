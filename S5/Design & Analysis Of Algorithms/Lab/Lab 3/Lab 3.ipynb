{
  "nbformat": 4,
  "nbformat_minor": 0,
  "metadata": {
    "colab": {
      "name": "DAA Lab 3.ipynb",
      "provenance": [],
      "collapsed_sections": [],
      "toc_visible": true
    },
    "kernelspec": {
      "name": "python3",
      "display_name": "Python 3"
    },
    "language_info": {
      "name": "python"
    }
  },
  "cells": [
    {
      "cell_type": "markdown",
      "metadata": {
        "id": "-ZTlW1yrRvvw"
      },
      "source": [
        "# Frog Jumping"
      ]
    },
    {
      "cell_type": "markdown",
      "metadata": {
        "id": "Fi8kfS0FZ9ff"
      },
      "source": [
        "A frog stands in front of a flight of n stairs. \n",
        "\n",
        "In one jump, the frog can cover one, two or three steps. \n",
        "\n",
        "In how many ways can the frog cross all the steps? Call it C(n). \n",
        "\n",
        "For example, if n = 4, then all the possibilities for the frog are (1,1,1,1), (1,1,2), (1,2,1), (1,3), (2,1,1), (2,2) and (3,1). \n",
        "\n",
        "Therefore, C(4) = 7."
      ]
    },
    {
      "cell_type": "code",
      "metadata": {
        "id": "5aslgw-1SwSe"
      },
      "source": [
        "# Part 1 \n",
        "# Recursive Approach\n",
        "\n",
        "def Steps_Recursive(step):\n",
        "  \n",
        "  if step == 0 or step == 1 or step == 2:\n",
        "    return step\n",
        "\n",
        "  if step == 3:\n",
        "    return 4\n",
        "  \n",
        "  else:\n",
        "    return Steps_Recursive(step - 1) + Steps_Recursive(step - 2) + Steps_Recursive(step - 3)"
      ],
      "execution_count": 4,
      "outputs": []
    },
    {
      "cell_type": "code",
      "metadata": {
        "id": "OpLteKgIjE1k"
      },
      "source": [
        "# Part 2\n",
        "# Iterative Approach\n",
        "\n",
        "def Steps_Iterative(step):\n",
        "\n",
        "  p_1 = 1\n",
        "  p_2 = 2\n",
        "  p_3 = 4\n",
        "\n",
        "  current = 0\n",
        "\n",
        "  if step <= 2:\n",
        "    return step\n",
        "  \n",
        "  if step == 3:\n",
        "    return 4\n",
        "  \n",
        "  for i in range(4,step + 1):  \n",
        "    current = p_1 + p_2 + p_3\n",
        "    p_1, p_2, p_3 = p_2, p_3, current  \n",
        " \n",
        "  return current"
      ],
      "execution_count": 17,
      "outputs": []
    },
    {
      "cell_type": "code",
      "metadata": {
        "colab": {
          "base_uri": "https://localhost:8080/"
        },
        "id": "-Anzam2ci__1",
        "outputId": "5298602b-778a-4388-bb92-b79c623ae1eb"
      },
      "source": [
        "if __name__ == '__main__':\n",
        "\n",
        "  n = int(input(\"Enter the N : \"))\n",
        "\n",
        "  print(\"\\nRecursive : No of ways the frog can cross all the steps is {}.\".format(Steps_Recursive(i)))\n",
        "  print(\"\\nIterative : No of ways the frog can cross all the steps is {}.\".format(Steps_Iterative(i)))"
      ],
      "execution_count": 18,
      "outputs": [
        {
          "output_type": "stream",
          "text": [
            "Enter the N : 10\n",
            "\n",
            "Recursive : No of ways the frog can cross all the steps is 149.\n",
            "\n",
            "Iterative : No of ways the frog can cross all the steps is 149.\n"
          ],
          "name": "stdout"
        }
      ]
    },
    {
      "cell_type": "markdown",
      "metadata": {
        "id": "4cf_jMu4K2D1"
      },
      "source": [
        "# Birthday Candles"
      ]
    },
    {
      "cell_type": "markdown",
      "metadata": {
        "id": "6PKjmJiVKnn4"
      },
      "source": [
        "How many birthday candles have you blown out throughout your life? \n",
        "\n",
        "Each year you blow out as many birthday candles as your new age. \n",
        "\n",
        "Therefore, if you were 6, the total number of birthday candles that you had blown out throughout your life would be: count(6) = 1 + 2 + 3 + 4 + 5 + 6 = 21"
      ]
    },
    {
      "cell_type": "code",
      "metadata": {
        "id": "UDP2_tTjKzPA"
      },
      "source": [
        "# Part 1 \n",
        "# Recursive Approach\n",
        "\n",
        "def Birthday_Recursive(year):\n",
        "  \n",
        "  if year == 0:\n",
        "    return 0\n",
        "  \n",
        "  if year > 0:\n",
        "    return year + Birthday_Recursive(year - 1)"
      ],
      "execution_count": null,
      "outputs": []
    },
    {
      "cell_type": "code",
      "metadata": {
        "id": "U_M4Rg0GMf7k"
      },
      "source": [
        "# Part 2\n",
        "# Iterative Approach\n",
        "\n",
        "def Birthday_Iterative(year):\n",
        "  \n",
        "  count = 0\n",
        "  \n",
        "  while(year > 0):\n",
        "    count += year\n",
        "    year -= 1\n",
        "\n",
        "  return count"
      ],
      "execution_count": null,
      "outputs": []
    },
    {
      "cell_type": "code",
      "metadata": {
        "colab": {
          "base_uri": "https://localhost:8080/"
        },
        "id": "JlEQdi5VNnaa",
        "outputId": "9e6eaff7-1da5-47ac-ee70-f49880079b3c"
      },
      "source": [
        "# Part 3\n",
        "\n",
        "if __name__ == \"__main__\":\n",
        "\n",
        "  n = int(input(\"Enter the N : \"))\n",
        "\n",
        "  print(\"\\nRecursive : You have blown out {} candles throughout your life.\".format(Birthday_Recursive(n)))\n",
        "  print(\"\\nIterative : You have blown out {} candles throughout your life.\".format(Birthday_Iterative(n)))"
      ],
      "execution_count": null,
      "outputs": [
        {
          "output_type": "stream",
          "text": [
            "Enter the N : 10\n",
            "\n",
            "Recursive : You have blown out 55 candles throughout your life.\n",
            "\n",
            "Iterative : You have blown out 55 candles throughout your life.\n"
          ],
          "name": "stdout"
        }
      ]
    },
    {
      "cell_type": "markdown",
      "metadata": {
        "id": "9jhPfbVpOUtd"
      },
      "source": [
        "# K'th Even Natural Number"
      ]
    },
    {
      "cell_type": "markdown",
      "metadata": {
        "id": "lb8JKyB_ObU1"
      },
      "source": [
        "Write an algorithm for finding the k-th even natural number Note that you can use the simple formula 2*(k - 1) for a given k "
      ]
    },
    {
      "cell_type": "code",
      "metadata": {
        "id": "bFDqYtrEOeVx"
      },
      "source": [
        "# Part 1 \n",
        "# Recursive Approach\n",
        "\n",
        "def Even_Recursive(even):\n",
        "  \n",
        "  if even == 1:\n",
        "    return 1\n",
        "  \n",
        "  else:\n",
        "    return 2 * Even_Recursive(even - 1)"
      ],
      "execution_count": null,
      "outputs": []
    },
    {
      "cell_type": "code",
      "metadata": {
        "id": "k2mmaYwGPbma"
      },
      "source": [
        "# Part 2\n",
        "# Iterative Approach\n",
        "\n",
        "def Even_Iterative(even):\n",
        "  \n",
        "  count = 0\n",
        "  sum = 0\n",
        "\n",
        "  while(count < even - 1):\n",
        "    count += 1\n",
        "    sum += 2\n",
        "\n",
        "  return sum"
      ],
      "execution_count": null,
      "outputs": []
    },
    {
      "cell_type": "code",
      "metadata": {
        "colab": {
          "base_uri": "https://localhost:8080/"
        },
        "id": "wiUnh3G-PsfN",
        "outputId": "709b793b-9e5a-485d-e4a1-a2b6975f0430"
      },
      "source": [
        "# Part 3\n",
        "\n",
        "if __name__ == \"__main__\":\n",
        "\n",
        "  n = int(input(\"Enter the N : \"))\n",
        "\n",
        "  print(\"\\nRecursive : K'th Even Number is {}.\".format(n,Even_Recursive(n)))\n",
        "  print(\"\\nIterative : K'th Even Number is {}.\".format(n,Even_Iterative(n)))"
      ],
      "execution_count": null,
      "outputs": [
        {
          "output_type": "stream",
          "text": [
            "Enter the N : 3\n",
            "\n",
            "Recursive : K'th Even Number is 3.\n",
            "\n",
            "Iterative : K'th Even Number is 3.\n"
          ],
          "name": "stdout"
        }
      ]
    }
  ]
}