{
  "nbformat": 4,
  "nbformat_minor": 0,
  "metadata": {
    "colab": {
      "name": "ML Lab 2.ipynb",
      "provenance": [],
      "collapsed_sections": [],
      "toc_visible": true
    },
    "kernelspec": {
      "name": "python3",
      "display_name": "Python 3"
    },
    "language_info": {
      "name": "python"
    }
  },
  "cells": [
    {
      "cell_type": "markdown",
      "metadata": {
        "id": "OVjKZcWJ9IOm"
      },
      "source": [
        "# Equal values in 2 Vectors"
      ]
    },
    {
      "cell_type": "code",
      "metadata": {
        "colab": {
          "base_uri": "https://localhost:8080/"
        },
        "id": "M84fLXu_8wSO",
        "outputId": "5753de89-1be2-413e-da34-ecb2d0867149"
      },
      "source": [
        "import numpy as np # Import Numpy\n",
        "\n",
        "a1 =   [1,6,7,9] # Array 1\n",
        "a2 =   [1,0,6,9] # Array 2\n",
        "\n",
        "v1 = np.array(a1) # Vector 1\n",
        "v2 = np.array(a2) # Vector 2\n",
        "\n",
        "np.sum(v1==v2)"
      ],
      "execution_count": null,
      "outputs": [
        {
          "output_type": "execute_result",
          "data": {
            "text/plain": [
              "2"
            ]
          },
          "metadata": {
            "tags": []
          },
          "execution_count": 2
        }
      ]
    },
    {
      "cell_type": "markdown",
      "metadata": {
        "id": "9Mm-m2cy-ju9"
      },
      "source": [
        "# Matrix"
      ]
    },
    {
      "cell_type": "code",
      "metadata": {
        "colab": {
          "base_uri": "https://localhost:8080/"
        },
        "id": "Q0hryT1V-mMh",
        "outputId": "6579cd21-67c3-482a-b75f-43daac9ea360"
      },
      "source": [
        "# Creating Matrix\n",
        "\n",
        "M = np.array([[10,20,30],[40,4,60],[70,80,90],[60,4,6],[8,10,12],\n",
        "              [4,8,9],[1,5,7],[13,8,34],[1,8,19],[22,78,89]])\n",
        "\n",
        "print(M)"
      ],
      "execution_count": null,
      "outputs": [
        {
          "output_type": "stream",
          "text": [
            "[[10 20 30]\n",
            " [40  4 60]\n",
            " [70 80 90]\n",
            " [60  4  6]\n",
            " [ 8 10 12]\n",
            " [ 4  8  9]\n",
            " [ 1  5  7]\n",
            " [13  8 34]\n",
            " [ 1  8 19]\n",
            " [22 78 89]]\n"
          ],
          "name": "stdout"
        }
      ]
    },
    {
      "cell_type": "code",
      "metadata": {
        "colab": {
          "base_uri": "https://localhost:8080/"
        },
        "id": "91K1bo9bGtgz",
        "outputId": "e80e00e4-ec6c-4613-98c1-63f5a5561899"
      },
      "source": [
        "# Size of Matrix\n",
        "\n",
        "M.shape"
      ],
      "execution_count": null,
      "outputs": [
        {
          "output_type": "execute_result",
          "data": {
            "text/plain": [
              "(10, 3)"
            ]
          },
          "metadata": {
            "tags": []
          },
          "execution_count": 14
        }
      ]
    },
    {
      "cell_type": "code",
      "metadata": {
        "colab": {
          "base_uri": "https://localhost:8080/"
        },
        "id": "DaQd2TXlHBbc",
        "outputId": "ce68fdc7-8c26-431f-b04a-6bbc8c99f380"
      },
      "source": [
        "# No of Rows\n",
        "\n",
        "M.shape[0]"
      ],
      "execution_count": null,
      "outputs": [
        {
          "output_type": "execute_result",
          "data": {
            "text/plain": [
              "10"
            ]
          },
          "metadata": {
            "tags": []
          },
          "execution_count": 15
        }
      ]
    },
    {
      "cell_type": "code",
      "metadata": {
        "colab": {
          "base_uri": "https://localhost:8080/"
        },
        "id": "EbMtLsCoHGs_",
        "outputId": "66fe9afe-b64c-4f45-eaf9-706e0e1ed4bd"
      },
      "source": [
        "# No of Columns\n",
        "\n",
        "M.shape[1]"
      ],
      "execution_count": null,
      "outputs": [
        {
          "output_type": "execute_result",
          "data": {
            "text/plain": [
              "3"
            ]
          },
          "metadata": {
            "tags": []
          },
          "execution_count": 16
        }
      ]
    },
    {
      "cell_type": "code",
      "metadata": {
        "colab": {
          "base_uri": "https://localhost:8080/"
        },
        "id": "hbSJgEj3HMwd",
        "outputId": "3df2cda4-19d4-47fe-d3f2-a17fb75b120f"
      },
      "source": [
        "# If sum of first two columns is divisible by 4, Y should be 1 else 0. \n",
        "\n",
        "for i in range(0,10):\n",
        "  if (M[i][0]+M[i][1]) % 4 == 0:\n",
        "    M[i][2] = 1\n",
        "  else:\n",
        "    M[i][2] = 0\n",
        "\n",
        "print(M)"
      ],
      "execution_count": null,
      "outputs": [
        {
          "output_type": "stream",
          "text": [
            "[[10 20  0]\n",
            " [40  4  1]\n",
            " [70 80  0]\n",
            " [60  4  1]\n",
            " [ 8 10  0]\n",
            " [ 4  8  1]\n",
            " [ 1  5  0]\n",
            " [13  8  0]\n",
            " [ 1  8  0]\n",
            " [22 78  1]]\n"
          ],
          "name": "stdout"
        }
      ]
    },
    {
      "cell_type": "markdown",
      "metadata": {
        "id": "aMzSx5K_JLpA"
      },
      "source": [
        "# Create Panda Dataframe"
      ]
    },
    {
      "cell_type": "code",
      "metadata": {
        "colab": {
          "base_uri": "https://localhost:8080/"
        },
        "id": "qsMzDm4uJPn-",
        "outputId": "ae91dddb-216b-43a8-db42-01a8dbf25b06"
      },
      "source": [
        "import pandas as pd\n",
        "\n",
        "df = pd.DataFrame(M,columns = ['X1','X2','Y'])\n",
        "\n",
        "print(df)"
      ],
      "execution_count": null,
      "outputs": [
        {
          "output_type": "stream",
          "text": [
            "   X1  X2  Y\n",
            "0  10  20  0\n",
            "1  40   4  1\n",
            "2  70  80  0\n",
            "3  60   4  1\n",
            "4   8  10  0\n",
            "5   4   8  1\n",
            "6   1   5  0\n",
            "7  13   8  0\n",
            "8   1   8  0\n",
            "9  22  78  1\n"
          ],
          "name": "stdout"
        }
      ]
    },
    {
      "cell_type": "markdown",
      "metadata": {
        "id": "HBV-fdE7Kfgb"
      },
      "source": [
        "# Scatter Plot"
      ]
    },
    {
      "cell_type": "code",
      "metadata": {
        "colab": {
          "base_uri": "https://localhost:8080/",
          "height": 279
        },
        "id": "-emqj3wnKhrs",
        "outputId": "b9d07fc7-a471-4d34-9799-98303a60450a"
      },
      "source": [
        "# Plot X1 and X2 using scatter plot. Color (X1,X2) red if corresponding Y is 1 else blue\n",
        "\n",
        "import matplotlib.pyplot as plt\n",
        "\n",
        "col = df.Y.map({0:'b', 1:'r'})  #df is the DataFrame created\n",
        "df.plot.scatter(x='X1', y='X2', c=col)\n",
        "\n",
        "plt.show()"
      ],
      "execution_count": null,
      "outputs": [
        {
          "output_type": "display_data",
          "data": {
            "image/png": "[encoded data removed]",
            "text/plain": [
              "<Figure size 432x288 with 1 Axes>"
            ]
          },
          "metadata": {
            "tags": [],
            "needs_background": "light"
          }
        }
      ]
    },
    {
      "cell_type": "markdown",
      "metadata": {
        "id": "9oHUBE_hPcXd"
      },
      "source": [
        "# Squared Error"
      ]
    },
    {
      "cell_type": "code",
      "metadata": {
        "colab": {
          "base_uri": "https://localhost:8080/"
        },
        "id": "yKn8sDnRM_kQ",
        "outputId": "4d36f255-7873-468b-9b58-3ede8f01a687"
      },
      "source": [
        "# For two columns X1, X2, find squared error : (x1 – x2)^2\n",
        "\n",
        "Diff = []\n",
        "\n",
        "for i in range(0,10):\n",
        "  Diff.append(np.subtract(M[i][0],M[i][1])) # Subtract X1 - X2\n",
        "\n",
        "print(Diff)\n",
        "print()\n",
        "\n",
        "Square = np.square(Diff) # Square\n",
        "print(Square)"
      ],
      "execution_count": null,
      "outputs": [
        {
          "output_type": "stream",
          "text": [
            "[-10, 36, -10, 56, -2, -4, -4, 5, -7, -56]\n",
            "\n",
            "[ 100 1296  100 3136    4   16   16   25   49 3136]\n"
          ],
          "name": "stdout"
        }
      ]
    },
    {
      "cell_type": "code",
      "metadata": {
        "colab": {
          "base_uri": "https://localhost:8080/"
        },
        "id": "V5G6cxJgP0N1",
        "outputId": "68d2e434-cfd6-4afa-810e-05762bc44f5b"
      },
      "source": [
        "# Sum of Squared Error\n",
        "\n",
        "print(Square.sum())"
      ],
      "execution_count": null,
      "outputs": [
        {
          "output_type": "stream",
          "text": [
            "7878\n"
          ],
          "name": "stdout"
        }
      ]
    },
    {
      "cell_type": "markdown",
      "metadata": {
        "id": "GW2cYk3uQPB5"
      },
      "source": [
        "# Euclidean Distance"
      ]
    },
    {
      "cell_type": "code",
      "metadata": {
        "colab": {
          "base_uri": "https://localhost:8080/"
        },
        "id": "FAvHHq81QmY1",
        "outputId": "070dc3d3-fb3e-4731-9bfe-e03fb643fa83"
      },
      "source": [
        "# Euclidean Distance\n",
        "\n",
        "# Find Euclidean Distance between first two rows of matrix M.\n",
        "# Compare result with inbuilt function  numpy.linalg.norm(a-b) where a is first row and b is second row.\n",
        "\n",
        "\"\"\"\n",
        "(xa, ya, za)\n",
        "(xb, yb, zb)\n",
        "\n",
        "Euclidean Distance = sqrt((xa-xb)^2 + (ya-yb)^2 + (za-zb)^2)\n",
        "\"\"\"\n",
        "\n",
        "Euc = []\n",
        "\n",
        "for i in range(0,3):\n",
        "  Euc.append(np.square(np.subtract(M[0][i],M[1][i]))) # Row 1 - Row 2\n",
        "\n",
        "sum = np.sum(Euc) # Sum of (Row 1 - Row 2)\n",
        "\n",
        "sqrt = np.sqrt(sum) # Square Root of Sum of (Row 1 - Row 2)\n",
        "print(\"Without Using Inbuilt Function :\", sqrt)\n",
        "\n",
        "Dist = np.linalg.norm(M[0] - M[1]) # Inbuilt Function\n",
        "print(\"With Using Inbuilt Function :\",Dist)"
      ],
      "execution_count": null,
      "outputs": [
        {
          "output_type": "stream",
          "text": [
            "Without Using Inbuilt Function : 34.0147027033899\n",
            "With Using Inbuilt Function : 34.0147027033899\n"
          ],
          "name": "stdout"
        }
      ]
    },
    {
      "cell_type": "markdown",
      "metadata": {
        "id": "_as8G2jpWSnq"
      },
      "source": [
        "# Euclidean Of Matrix & Vector"
      ]
    },
    {
      "cell_type": "code",
      "metadata": {
        "colab": {
          "base_uri": "https://localhost:8080/"
        },
        "id": "A52ADoFCWXvA",
        "outputId": "766bf958-388c-4b84-be04-aa1c489a35ca"
      },
      "source": [
        "#\tCreate a vector V with two random values.\n",
        "\n",
        "A = [11,7] # Array\n",
        "V = np.array(A) # Vector\n",
        "\n",
        "Dist = []\n",
        "\n",
        "for i in range(0,10):\n",
        "  Dist.append(np.linalg.norm(M[i][:2] - V))\n",
        "\n",
        "print(np.array(Dist))"
      ],
      "execution_count": null,
      "outputs": [
        {
          "output_type": "stream",
          "text": [
            "[13.03840481 29.15475947 93.86160024 49.09175083  4.24264069  7.07106781\n",
            " 10.19803903  2.23606798 10.04987562 71.84705979]\n"
          ],
          "name": "stdout"
        }
      ]
    },
    {
      "cell_type": "markdown",
      "metadata": {
        "id": "gwqABON6ZZyZ"
      },
      "source": [
        "# Matrix Manipulation"
      ]
    },
    {
      "cell_type": "code",
      "metadata": {
        "colab": {
          "base_uri": "https://localhost:8080/"
        },
        "id": "7g3OQt9yZrRf",
        "outputId": "d76a1a0d-7304-4fbd-ac3d-c3efe640b055"
      },
      "source": [
        "# Create a matrix A with 10 rows and 2 columns.\n",
        "\n",
        "A = np.array([[1,2,3],[2,3,4]])\n",
        "print(A)\n",
        "print()\n",
        "\n",
        "C = np.array([6,7]) \n",
        "\n",
        "A = np.column_stack((A,C)) # Add a new column to a Matrix\n",
        "print(A)\n",
        "print()\n",
        "\n",
        "R = np.array([1,1,1,1])\n",
        "\n",
        "A = np.vstack((A,R)) # Add a new row to a Matrix\n",
        "print(A)"
      ],
      "execution_count": null,
      "outputs": [
        {
          "output_type": "stream",
          "text": [
            "[[1 2 3]\n",
            " [2 3 4]]\n",
            "\n",
            "[[1 2 3 6]\n",
            " [2 3 4 7]]\n",
            "\n",
            "[[1 2 3 6]\n",
            " [2 3 4 7]\n",
            " [1 1 1 1]]\n"
          ],
          "name": "stdout"
        }
      ]
    },
    {
      "cell_type": "markdown",
      "metadata": {
        "id": "GK4BSPPAcfX1"
      },
      "source": [
        "# Euclidean Of Two Matrices"
      ]
    },
    {
      "cell_type": "code",
      "metadata": {
        "colab": {
          "base_uri": "https://localhost:8080/"
        },
        "id": "0Cyw_qCKci83",
        "outputId": "ccba48c9-3eb1-490e-8511-4e3d536c3014"
      },
      "source": [
        "# Creating Matrix\n",
        "\n",
        "N = np.array([[1,12],[4,33],[7,8],[6,45],[8,12],\n",
        "              [4,19],[1,24],[3,23],[1,53],[2,50]])\n",
        "\n",
        "print(N)"
      ],
      "execution_count": null,
      "outputs": [
        {
          "output_type": "stream",
          "text": [
            "[[ 1 12]\n",
            " [ 4 33]\n",
            " [ 7  8]\n",
            " [ 6 45]\n",
            " [ 8 12]\n",
            " [ 4 19]\n",
            " [ 1 24]\n",
            " [ 3 23]\n",
            " [ 1 53]\n",
            " [ 2 50]]\n"
          ],
          "name": "stdout"
        }
      ]
    },
    {
      "cell_type": "code",
      "metadata": {
        "colab": {
          "base_uri": "https://localhost:8080/"
        },
        "id": "G8kpyrMJfaaK",
        "outputId": "f4a88195-664d-4b72-f4e6-1676c67ccd59"
      },
      "source": [
        "Dist = []\n",
        "\n",
        "for i in range(0,10):\n",
        "  temp = []\n",
        "  for j in range(0,10):\n",
        "    temp.append(np.linalg.norm(M[i][:2] - N[j]))\n",
        "  Dist.append(temp)\n",
        "\n",
        "Dist = np.array(Dist)\n",
        "print(Dist)\n",
        "print()\n",
        "\n",
        "from sklearn.metrics.pairwise import euclidean_distances\n",
        "\n",
        "euclidean_distances(M[:,:2], N)"
      ],
      "execution_count": null,
      "outputs": [
        {
          "output_type": "stream",
          "text": [
            "[[12.04159458 14.31782106 12.36931688 25.3179778   8.24621125  6.08276253\n",
            "   9.8488578   7.61577311 34.20526275 31.04834939]\n",
            " [39.81205847 46.22769733 33.24154028 53.26349594 32.984845   39.\n",
            "  43.829214   41.59326869 62.62587325 59.66573556]\n",
            " [96.87620967 81.0246876  95.67131231 72.9451849  92.02173656 89.87213139\n",
            "  88.86506625 87.96590248 74.09453421 74.3236167 ]\n",
            " [59.53990259 63.0634601  53.15072906 67.80117993 52.61178575 57.97413216\n",
            "  62.29767251 60.08327554 76.69419796 74.02702209]\n",
            " [ 7.28010989 23.34523506  2.23606798 35.05709629  2.          9.8488578\n",
            "  15.65247584 13.92838828 43.56604182 40.44749683]\n",
            " [ 5.         25.          3.         37.05401463  5.65685425 11.\n",
            "  16.2788206  15.03329638 45.09988914 42.04759208]\n",
            " [ 7.         28.16025568  6.70820393 40.31128874  9.89949494 14.31782106\n",
            "  19.         18.11077028 48.         45.01110974]\n",
            " [12.64911064 26.57066051  6.         37.65634077  6.40312424 14.2126704\n",
            "  20.         18.02775638 46.57252409 43.41658669]\n",
            " [ 4.         25.17935662  6.         37.33630941  8.06225775 11.40175425\n",
            "  16.         15.13274595 45.         42.01190308]\n",
            " [69.26037828 48.46648326 71.58910532 36.67424164 67.46851117 61.68468205\n",
            "  57.93962375 58.1893461  32.64965543 34.40930107]]\n",
            "\n"
          ],
          "name": "stdout"
        },
        {
          "output_type": "execute_result",
          "data": {
            "text/plain": [
              "array([[12.04159458, 14.31782106, 12.36931688, 25.3179778 ,  8.24621125,\n",
              "         6.08276253,  9.8488578 ,  7.61577311, 34.20526275, 31.04834939],\n",
              "       [39.81205847, 46.22769733, 33.24154028, 53.26349594, 32.984845  ,\n",
              "        39.        , 43.829214  , 41.59326869, 62.62587325, 59.66573556],\n",
              "       [96.87620967, 81.0246876 , 95.67131231, 72.9451849 , 92.02173656,\n",
              "        89.87213139, 88.86506625, 87.96590248, 74.09453421, 74.3236167 ],\n",
              "       [59.53990259, 63.0634601 , 53.15072906, 67.80117993, 52.61178575,\n",
              "        57.97413216, 62.29767251, 60.08327554, 76.69419796, 74.02702209],\n",
              "       [ 7.28010989, 23.34523506,  2.23606798, 35.05709629,  2.        ,\n",
              "         9.8488578 , 15.65247584, 13.92838828, 43.56604182, 40.44749683],\n",
              "       [ 5.        , 25.        ,  3.        , 37.05401463,  5.65685425,\n",
              "        11.        , 16.2788206 , 15.03329638, 45.09988914, 42.04759208],\n",
              "       [ 7.        , 28.16025568,  6.70820393, 40.31128874,  9.89949494,\n",
              "        14.31782106, 19.        , 18.11077028, 48.        , 45.01110974],\n",
              "       [12.64911064, 26.57066051,  6.        , 37.65634077,  6.40312424,\n",
              "        14.2126704 , 20.        , 18.02775638, 46.57252409, 43.41658669],\n",
              "       [ 4.        , 25.17935662,  6.        , 37.33630941,  8.06225775,\n",
              "        11.40175425, 16.        , 15.13274595, 45.        , 42.01190308],\n",
              "       [69.26037828, 48.46648326, 71.58910532, 36.67424164, 67.46851117,\n",
              "        61.68468205, 57.93962375, 58.1893461 , 32.64965543, 34.40930107]])"
            ]
          },
          "metadata": {
            "tags": []
          },
          "execution_count": 28
        }
      ]
    },
    {
      "cell_type": "code",
      "metadata": {
        "colab": {
          "base_uri": "https://localhost:8080/"
        },
        "id": "rPymxWVHof-A",
        "outputId": "1dfa1a86-361c-46c7-a2cc-a60faa8f3106"
      },
      "source": [
        "Dist = []\n",
        "\n",
        "for i in range(0,10):\n",
        "  for j in range(0,10):\n",
        "    Dist.append([i,j,np.linalg.norm(M[i][:2] - N[j])])\n",
        "\n",
        "Dist = np.array(Dist)\n",
        "\n",
        "df = pd.DataFrame(Dist,columns=['Row ID M', 'Row ID N','Distance'])\n",
        "print(df)"
      ],
      "execution_count": null,
      "outputs": [
        {
          "output_type": "stream",
          "text": [
            "    Row ID M  Row ID N   Distance\n",
            "0        0.0       0.0  12.041595\n",
            "1        0.0       1.0  14.317821\n",
            "2        0.0       2.0  12.369317\n",
            "3        0.0       3.0  25.317978\n",
            "4        0.0       4.0   8.246211\n",
            "..       ...       ...        ...\n",
            "95       9.0       5.0  61.684682\n",
            "96       9.0       6.0  57.939624\n",
            "97       9.0       7.0  58.189346\n",
            "98       9.0       8.0  32.649655\n",
            "99       9.0       9.0  34.409301\n",
            "\n",
            "[100 rows x 3 columns]\n"
          ],
          "name": "stdout"
        }
      ]
    },
    {
      "cell_type": "markdown",
      "metadata": {
        "id": "pNbR2xqK-t27"
      },
      "source": [
        "# Matrix Sort"
      ]
    },
    {
      "cell_type": "code",
      "metadata": {
        "colab": {
          "base_uri": "https://localhost:8080/"
        },
        "id": "RdkTMGjl-xhX",
        "outputId": "d37ab09d-f416-4488-c59f-b1df5dd06939"
      },
      "source": [
        "# Sort Dist matrix based on last column\n",
        "\n",
        "Sort = Dist[Dist[:, 2].argsort()]\n",
        "print(Sort)"
      ],
      "execution_count": null,
      "outputs": [
        {
          "output_type": "stream",
          "text": [
            "[[ 4.          4.          2.        ]\n",
            " [ 4.          2.          2.23606798]\n",
            " [ 5.          2.          3.        ]\n",
            " [ 8.          0.          4.        ]\n",
            " [ 5.          0.          5.        ]\n",
            " [ 5.          4.          5.65685425]\n",
            " [ 8.          2.          6.        ]\n",
            " [ 7.          2.          6.        ]\n",
            " [ 0.          5.          6.08276253]\n",
            " [ 7.          4.          6.40312424]\n",
            " [ 6.          2.          6.70820393]\n",
            " [ 6.          0.          7.        ]\n",
            " [ 4.          0.          7.28010989]\n",
            " [ 0.          7.          7.61577311]\n",
            " [ 8.          4.          8.06225775]\n",
            " [ 0.          4.          8.24621125]\n",
            " [ 0.          6.          9.8488578 ]\n",
            " [ 4.          5.          9.8488578 ]\n",
            " [ 6.          4.          9.89949494]\n",
            " [ 5.          5.         11.        ]\n",
            " [ 8.          5.         11.40175425]\n",
            " [ 0.          0.         12.04159458]\n",
            " [ 0.          2.         12.36931688]\n",
            " [ 7.          0.         12.64911064]\n",
            " [ 4.          7.         13.92838828]\n",
            " [ 7.          5.         14.2126704 ]\n",
            " [ 0.          1.         14.31782106]\n",
            " [ 6.          5.         14.31782106]\n",
            " [ 5.          7.         15.03329638]\n",
            " [ 8.          7.         15.13274595]\n",
            " [ 4.          6.         15.65247584]\n",
            " [ 8.          6.         16.        ]\n",
            " [ 5.          6.         16.2788206 ]\n",
            " [ 7.          7.         18.02775638]\n",
            " [ 6.          7.         18.11077028]\n",
            " [ 6.          6.         19.        ]\n",
            " [ 7.          6.         20.        ]\n",
            " [ 4.          1.         23.34523506]\n",
            " [ 5.          1.         25.        ]\n",
            " [ 8.          1.         25.17935662]\n",
            " [ 0.          3.         25.3179778 ]\n",
            " [ 7.          1.         26.57066051]\n",
            " [ 6.          1.         28.16025568]\n",
            " [ 0.          9.         31.04834939]\n",
            " [ 9.          8.         32.64965543]\n",
            " [ 1.          4.         32.984845  ]\n",
            " [ 1.          2.         33.24154028]\n",
            " [ 0.          8.         34.20526275]\n",
            " [ 9.          9.         34.40930107]\n",
            " [ 4.          3.         35.05709629]\n",
            " [ 9.          3.         36.67424164]\n",
            " [ 5.          3.         37.05401463]\n",
            " [ 8.          3.         37.33630941]\n",
            " [ 7.          3.         37.65634077]\n",
            " [ 1.          5.         39.        ]\n",
            " [ 1.          0.         39.81205847]\n",
            " [ 6.          3.         40.31128874]\n",
            " [ 4.          9.         40.44749683]\n",
            " [ 1.          7.         41.59326869]\n",
            " [ 8.          9.         42.01190308]\n",
            " [ 5.          9.         42.04759208]\n",
            " [ 7.          9.         43.41658669]\n",
            " [ 4.          8.         43.56604182]\n",
            " [ 1.          6.         43.829214  ]\n",
            " [ 8.          8.         45.        ]\n",
            " [ 6.          9.         45.01110974]\n",
            " [ 5.          8.         45.09988914]\n",
            " [ 1.          1.         46.22769733]\n",
            " [ 7.          8.         46.57252409]\n",
            " [ 6.          8.         48.        ]\n",
            " [ 9.          1.         48.46648326]\n",
            " [ 3.          4.         52.61178575]\n",
            " [ 3.          2.         53.15072906]\n",
            " [ 1.          3.         53.26349594]\n",
            " [ 9.          6.         57.93962375]\n",
            " [ 3.          5.         57.97413216]\n",
            " [ 9.          7.         58.1893461 ]\n",
            " [ 3.          0.         59.53990259]\n",
            " [ 1.          9.         59.66573556]\n",
            " [ 3.          7.         60.08327554]\n",
            " [ 9.          5.         61.68468205]\n",
            " [ 3.          6.         62.29767251]\n",
            " [ 1.          8.         62.62587325]\n",
            " [ 3.          1.         63.0634601 ]\n",
            " [ 9.          4.         67.46851117]\n",
            " [ 3.          3.         67.80117993]\n",
            " [ 9.          0.         69.26037828]\n",
            " [ 9.          2.         71.58910532]\n",
            " [ 2.          3.         72.9451849 ]\n",
            " [ 3.          9.         74.02702209]\n",
            " [ 2.          8.         74.09453421]\n",
            " [ 2.          9.         74.3236167 ]\n",
            " [ 3.          8.         76.69419796]\n",
            " [ 2.          1.         81.0246876 ]\n",
            " [ 2.          7.         87.96590248]\n",
            " [ 2.          6.         88.86506625]\n",
            " [ 2.          5.         89.87213139]\n",
            " [ 2.          4.         92.02173656]\n",
            " [ 2.          2.         95.67131231]\n",
            " [ 2.          0.         96.87620967]]\n"
          ],
          "name": "stdout"
        }
      ]
    },
    {
      "cell_type": "code",
      "metadata": {
        "colab": {
          "base_uri": "https://localhost:8080/"
        },
        "id": "EeXy2wFwDcC3",
        "outputId": "171b9093-0ca7-401b-f9f5-5c32e1d4ab2b"
      },
      "source": [
        "# Get initial k rows from Sorted Matrix\n",
        "\n",
        "k = int(input(\"Enter the K : \"))\n",
        "Sort[:k]"
      ],
      "execution_count": null,
      "outputs": [
        {
          "output_type": "stream",
          "text": [
            "Enter the K : 30\n"
          ],
          "name": "stdout"
        },
        {
          "output_type": "execute_result",
          "data": {
            "text/plain": [
              "array([[ 4.        ,  4.        ,  2.        ],\n",
              "       [ 4.        ,  2.        ,  2.23606798],\n",
              "       [ 5.        ,  2.        ,  3.        ],\n",
              "       [ 8.        ,  0.        ,  4.        ],\n",
              "       [ 5.        ,  0.        ,  5.        ],\n",
              "       [ 5.        ,  4.        ,  5.65685425],\n",
              "       [ 8.        ,  2.        ,  6.        ],\n",
              "       [ 7.        ,  2.        ,  6.        ],\n",
              "       [ 0.        ,  5.        ,  6.08276253],\n",
              "       [ 7.        ,  4.        ,  6.40312424],\n",
              "       [ 6.        ,  2.        ,  6.70820393],\n",
              "       [ 6.        ,  0.        ,  7.        ],\n",
              "       [ 4.        ,  0.        ,  7.28010989],\n",
              "       [ 0.        ,  7.        ,  7.61577311],\n",
              "       [ 8.        ,  4.        ,  8.06225775],\n",
              "       [ 0.        ,  4.        ,  8.24621125],\n",
              "       [ 0.        ,  6.        ,  9.8488578 ],\n",
              "       [ 4.        ,  5.        ,  9.8488578 ],\n",
              "       [ 6.        ,  4.        ,  9.89949494],\n",
              "       [ 5.        ,  5.        , 11.        ],\n",
              "       [ 8.        ,  5.        , 11.40175425],\n",
              "       [ 0.        ,  0.        , 12.04159458],\n",
              "       [ 0.        ,  2.        , 12.36931688],\n",
              "       [ 7.        ,  0.        , 12.64911064],\n",
              "       [ 4.        ,  7.        , 13.92838828],\n",
              "       [ 7.        ,  5.        , 14.2126704 ],\n",
              "       [ 0.        ,  1.        , 14.31782106],\n",
              "       [ 6.        ,  5.        , 14.31782106],\n",
              "       [ 5.        ,  7.        , 15.03329638],\n",
              "       [ 8.        ,  7.        , 15.13274595]])"
            ]
          },
          "metadata": {
            "tags": []
          },
          "execution_count": 65
        }
      ]
    },
    {
      "cell_type": "code",
      "metadata": {
        "colab": {
          "base_uri": "https://localhost:8080/"
        },
        "id": "0vjK2UcPFJuQ",
        "outputId": "15154767-b3b9-4724-8560-dfa4ddb2ca53"
      },
      "source": [
        "# Find the number of 1s and number of 0s in k rows found above \n",
        "# Print 1 if the number of 1s are more else print 0\n",
        "\n",
        "ones = 0\n",
        "zeros = 0\n",
        "\n",
        "for i in range(k):\n",
        "  for j in range(3):\n",
        "    if Sort[i][j] == 0:\n",
        "      zeros+=1\n",
        "    elif Sort[i][j] == 1:\n",
        "      ones+=1\n",
        "\n",
        "print(\"Zeros:\",zeros)\n",
        "print(\"Ones:\",ones)\n",
        "\n",
        "if zeros > ones:\n",
        "  print(\"0\")\n",
        "else:\n",
        "  print(\"1\")"
      ],
      "execution_count": null,
      "outputs": [
        {
          "output_type": "stream",
          "text": [
            "Zeros: 13\n",
            "Ones: 1\n",
            "0\n"
          ],
          "name": "stdout"
        }
      ]
    }
  ]
}