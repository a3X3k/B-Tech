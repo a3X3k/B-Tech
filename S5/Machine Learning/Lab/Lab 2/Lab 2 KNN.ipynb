{
  "nbformat": 4,
  "nbformat_minor": 0,
  "metadata": {
    "colab": {
      "name": "Lab 2 KNN.ipynb",
      "provenance": [],
      "collapsed_sections": [],
      "toc_visible": true
    },
    "kernelspec": {
      "name": "python3",
      "display_name": "Python 3"
    },
    "language_info": {
      "name": "python"
    }
  },
  "cells": [
    {
      "cell_type": "code",
      "metadata": {
        "id": "qSM8DFLzE121"
      },
      "source": [
        "# Load Dataset\n",
        "\n",
        "import pandas as pd\n",
        "\n",
        "data = pd.read_csv(\"/content/Diabetes.csv\")"
      ],
      "execution_count": 1,
      "outputs": []
    },
    {
      "cell_type": "code",
      "metadata": {
        "colab": {
          "base_uri": "https://localhost:8080/",
          "height": 511
        },
        "id": "hcDx5x_CFaSX",
        "outputId": "b0d9da6e-be92-4a1f-b626-ee3ba99b6c19"
      },
      "source": [
        "# Display First 10 Rows\n",
        "\n",
        "data.head(15)"
      ],
      "execution_count": 2,
      "outputs": [
        {
          "output_type": "execute_result",
          "data": {
            "text/html": [
              "<div>\n",
              "<style scoped>\n",
              "    .dataframe tbody tr th:only-of-type {\n",
              "        vertical-align: middle;\n",
              "    }\n",
              "\n",
              "    .dataframe tbody tr th {\n",
              "        vertical-align: top;\n",
              "    }\n",
              "\n",
              "    .dataframe thead th {\n",
              "        text-align: right;\n",
              "    }\n",
              "</style>\n",
              "<table border=\"1\" class=\"dataframe\">\n",
              "  <thead>\n",
              "    <tr style=\"text-align: right;\">\n",
              "      <th></th>\n",
              "      <th>Pregnancies</th>\n",
              "      <th>Glucose</th>\n",
              "      <th>BloodPressure</th>\n",
              "      <th>SkinThickness</th>\n",
              "      <th>Insulin</th>\n",
              "      <th>BMI</th>\n",
              "      <th>DiabetesPedigreeFunction</th>\n",
              "      <th>Age</th>\n",
              "      <th>Outcome</th>\n",
              "    </tr>\n",
              "  </thead>\n",
              "  <tbody>\n",
              "    <tr>\n",
              "      <th>0</th>\n",
              "      <td>6</td>\n",
              "      <td>148</td>\n",
              "      <td>72</td>\n",
              "      <td>35</td>\n",
              "      <td>0</td>\n",
              "      <td>33.6</td>\n",
              "      <td>0.627</td>\n",
              "      <td>50</td>\n",
              "      <td>1</td>\n",
              "    </tr>\n",
              "    <tr>\n",
              "      <th>1</th>\n",
              "      <td>1</td>\n",
              "      <td>85</td>\n",
              "      <td>66</td>\n",
              "      <td>29</td>\n",
              "      <td>0</td>\n",
              "      <td>26.6</td>\n",
              "      <td>0.351</td>\n",
              "      <td>31</td>\n",
              "      <td>0</td>\n",
              "    </tr>\n",
              "    <tr>\n",
              "      <th>2</th>\n",
              "      <td>8</td>\n",
              "      <td>183</td>\n",
              "      <td>64</td>\n",
              "      <td>0</td>\n",
              "      <td>0</td>\n",
              "      <td>23.3</td>\n",
              "      <td>0.672</td>\n",
              "      <td>32</td>\n",
              "      <td>1</td>\n",
              "    </tr>\n",
              "    <tr>\n",
              "      <th>3</th>\n",
              "      <td>1</td>\n",
              "      <td>89</td>\n",
              "      <td>66</td>\n",
              "      <td>23</td>\n",
              "      <td>94</td>\n",
              "      <td>28.1</td>\n",
              "      <td>0.167</td>\n",
              "      <td>21</td>\n",
              "      <td>0</td>\n",
              "    </tr>\n",
              "    <tr>\n",
              "      <th>4</th>\n",
              "      <td>0</td>\n",
              "      <td>137</td>\n",
              "      <td>40</td>\n",
              "      <td>35</td>\n",
              "      <td>168</td>\n",
              "      <td>43.1</td>\n",
              "      <td>2.288</td>\n",
              "      <td>33</td>\n",
              "      <td>1</td>\n",
              "    </tr>\n",
              "    <tr>\n",
              "      <th>5</th>\n",
              "      <td>5</td>\n",
              "      <td>116</td>\n",
              "      <td>74</td>\n",
              "      <td>0</td>\n",
              "      <td>0</td>\n",
              "      <td>25.6</td>\n",
              "      <td>0.201</td>\n",
              "      <td>30</td>\n",
              "      <td>0</td>\n",
              "    </tr>\n",
              "    <tr>\n",
              "      <th>6</th>\n",
              "      <td>3</td>\n",
              "      <td>78</td>\n",
              "      <td>50</td>\n",
              "      <td>32</td>\n",
              "      <td>88</td>\n",
              "      <td>31.0</td>\n",
              "      <td>0.248</td>\n",
              "      <td>26</td>\n",
              "      <td>1</td>\n",
              "    </tr>\n",
              "    <tr>\n",
              "      <th>7</th>\n",
              "      <td>10</td>\n",
              "      <td>115</td>\n",
              "      <td>0</td>\n",
              "      <td>0</td>\n",
              "      <td>0</td>\n",
              "      <td>35.3</td>\n",
              "      <td>0.134</td>\n",
              "      <td>29</td>\n",
              "      <td>0</td>\n",
              "    </tr>\n",
              "    <tr>\n",
              "      <th>8</th>\n",
              "      <td>2</td>\n",
              "      <td>197</td>\n",
              "      <td>70</td>\n",
              "      <td>45</td>\n",
              "      <td>543</td>\n",
              "      <td>30.5</td>\n",
              "      <td>0.158</td>\n",
              "      <td>53</td>\n",
              "      <td>1</td>\n",
              "    </tr>\n",
              "    <tr>\n",
              "      <th>9</th>\n",
              "      <td>8</td>\n",
              "      <td>125</td>\n",
              "      <td>96</td>\n",
              "      <td>0</td>\n",
              "      <td>0</td>\n",
              "      <td>0.0</td>\n",
              "      <td>0.232</td>\n",
              "      <td>54</td>\n",
              "      <td>1</td>\n",
              "    </tr>\n",
              "    <tr>\n",
              "      <th>10</th>\n",
              "      <td>4</td>\n",
              "      <td>110</td>\n",
              "      <td>92</td>\n",
              "      <td>0</td>\n",
              "      <td>0</td>\n",
              "      <td>37.6</td>\n",
              "      <td>0.191</td>\n",
              "      <td>30</td>\n",
              "      <td>0</td>\n",
              "    </tr>\n",
              "    <tr>\n",
              "      <th>11</th>\n",
              "      <td>10</td>\n",
              "      <td>168</td>\n",
              "      <td>74</td>\n",
              "      <td>0</td>\n",
              "      <td>0</td>\n",
              "      <td>38.0</td>\n",
              "      <td>0.537</td>\n",
              "      <td>34</td>\n",
              "      <td>1</td>\n",
              "    </tr>\n",
              "    <tr>\n",
              "      <th>12</th>\n",
              "      <td>10</td>\n",
              "      <td>139</td>\n",
              "      <td>80</td>\n",
              "      <td>0</td>\n",
              "      <td>0</td>\n",
              "      <td>27.1</td>\n",
              "      <td>1.441</td>\n",
              "      <td>57</td>\n",
              "      <td>0</td>\n",
              "    </tr>\n",
              "    <tr>\n",
              "      <th>13</th>\n",
              "      <td>1</td>\n",
              "      <td>189</td>\n",
              "      <td>60</td>\n",
              "      <td>23</td>\n",
              "      <td>846</td>\n",
              "      <td>30.1</td>\n",
              "      <td>0.398</td>\n",
              "      <td>59</td>\n",
              "      <td>1</td>\n",
              "    </tr>\n",
              "    <tr>\n",
              "      <th>14</th>\n",
              "      <td>5</td>\n",
              "      <td>166</td>\n",
              "      <td>72</td>\n",
              "      <td>19</td>\n",
              "      <td>175</td>\n",
              "      <td>25.8</td>\n",
              "      <td>0.587</td>\n",
              "      <td>51</td>\n",
              "      <td>1</td>\n",
              "    </tr>\n",
              "  </tbody>\n",
              "</table>\n",
              "</div>"
            ],
            "text/plain": [
              "    Pregnancies  Glucose  BloodPressure  ...  DiabetesPedigreeFunction  Age  Outcome\n",
              "0             6      148             72  ...                     0.627   50        1\n",
              "1             1       85             66  ...                     0.351   31        0\n",
              "2             8      183             64  ...                     0.672   32        1\n",
              "3             1       89             66  ...                     0.167   21        0\n",
              "4             0      137             40  ...                     2.288   33        1\n",
              "5             5      116             74  ...                     0.201   30        0\n",
              "6             3       78             50  ...                     0.248   26        1\n",
              "7            10      115              0  ...                     0.134   29        0\n",
              "8             2      197             70  ...                     0.158   53        1\n",
              "9             8      125             96  ...                     0.232   54        1\n",
              "10            4      110             92  ...                     0.191   30        0\n",
              "11           10      168             74  ...                     0.537   34        1\n",
              "12           10      139             80  ...                     1.441   57        0\n",
              "13            1      189             60  ...                     0.398   59        1\n",
              "14            5      166             72  ...                     0.587   51        1\n",
              "\n",
              "[15 rows x 9 columns]"
            ]
          },
          "metadata": {
            "tags": []
          },
          "execution_count": 2
        }
      ]
    },
    {
      "cell_type": "code",
      "metadata": {
        "colab": {
          "base_uri": "https://localhost:8080/"
        },
        "id": "2x1WwOx9FrWe",
        "outputId": "b65f8480-571c-4934-a24e-fbfe750bcf82"
      },
      "source": [
        "# Split Data Set into Train and Test\n",
        "\n",
        "train_percent = round((data.shape[0]*80)/100)\n",
        "print(\"Train Data :\",train_percent)\n",
        "\n",
        "test_percent = round((data.shape[0]*20)/100)\n",
        "print(\"Test Data :\",test_percent)"
      ],
      "execution_count": 3,
      "outputs": [
        {
          "output_type": "stream",
          "text": [
            "Train Data : 614\n",
            "Test Data : 154\n"
          ],
          "name": "stdout"
        }
      ]
    },
    {
      "cell_type": "code",
      "metadata": {
        "colab": {
          "base_uri": "https://localhost:8080/"
        },
        "id": "qaWMQqMoL2DR",
        "outputId": "655c3933-cc5c-44c2-b93e-ac05645ffe43"
      },
      "source": [
        "XTrain = data[:train_percent]\n",
        "XTest = data[train_percent:]\n",
        "\n",
        "print(\"Train Set :\", XTrain.shape, \"\\nTest Set:\", XTest.shape)"
      ],
      "execution_count": 4,
      "outputs": [
        {
          "output_type": "stream",
          "text": [
            "Train Set : (614, 9) \n",
            "Test Set: (154, 9)\n"
          ],
          "name": "stdout"
        }
      ]
    },
    {
      "cell_type": "code",
      "metadata": {
        "colab": {
          "base_uri": "https://localhost:8080/"
        },
        "id": "zrKVAVX1SYLQ",
        "outputId": "b501508a-5423-46bb-b808-ec0fd3ab129c"
      },
      "source": [
        "# Split the dataset into 80% training and 20% testing \n",
        "\n",
        "from sklearn.model_selection import train_test_split  \n",
        "\n",
        "Y = data.Outcome # Only Target Label\n",
        "\n",
        "X = data.drop('Outcome',axis=1) # Features\n",
        "# axis = Whether to drop 0 - labels from the index or 1 - columns.\n",
        "\n",
        "x_train,x_test,y_train,y_test=train_test_split(X,Y,test_size=0.2)\n",
        "\n",
        "\n",
        "print(x_train.head(), \"\\n\", y_train.head())"
      ],
      "execution_count": 5,
      "outputs": [
        {
          "output_type": "stream",
          "text": [
            "     Pregnancies  Glucose  BloodPressure  ...   BMI  DiabetesPedigreeFunction  Age\n",
            "473            7      136             90  ...  29.9                     0.210   50\n",
            "465            0      124             56  ...  21.8                     0.452   21\n",
            "72            13      126             90  ...  43.4                     0.583   42\n",
            "127            1      118             58  ...  33.3                     0.261   23\n",
            "204            6      103             72  ...  37.7                     0.324   55\n",
            "\n",
            "[5 rows x 8 columns] \n",
            " 473    0\n",
            "465    0\n",
            "72     1\n",
            "127    0\n",
            "204    0\n",
            "Name: Outcome, dtype: int64\n"
          ],
          "name": "stdout"
        }
      ]
    },
    {
      "cell_type": "code",
      "metadata": {
        "id": "WTIcejjrdLiq"
      },
      "source": [
        "from sklearn.preprocessing import StandardScaler\n",
        "\n",
        "st_scaler=StandardScaler()\n",
        "\n",
        "x_train=st_scaler.fit_transform(x_train)\n",
        "\n",
        "x_test=st_scaler.transform(x_test)"
      ],
      "execution_count": 6,
      "outputs": []
    },
    {
      "cell_type": "markdown",
      "metadata": {
        "id": "E5QCV0TU13r2"
      },
      "source": [
        "* We have to execute, ```scaler=StandardScaler().fit(X_Test)```"
      ]
    },
    {
      "cell_type": "code",
      "metadata": {
        "colab": {
          "base_uri": "https://localhost:8080/"
        },
        "id": "ipK6i-_EdT6H",
        "outputId": "2719514f-0a36-4358-c7c9-61c27c7d6d7b"
      },
      "source": [
        "from sklearn.neighbors import KNeighborsClassifier  \n",
        "\n",
        "classifier = KNeighborsClassifier(n_neighbors=5)  \n",
        "classifier.fit(x_train, y_train)\n",
        "y_pred = classifier.predict(x_test)\n",
        "\n",
        "print(y_pred)"
      ],
      "execution_count": 7,
      "outputs": [
        {
          "output_type": "stream",
          "text": [
            "[1 0 0 0 0 0 0 0 0 0 1 1 1 1 0 0 0 1 0 0 0 0 0 1 1 0 0 1 0 0 1 1 1 0 1 0 1\n",
            " 1 0 0 0 1 0 0 0 0 1 0 0 0 0 0 1 0 0 0 0 0 1 0 0 0 0 0 0 0 0 0 0 0 0 0 0 0\n",
            " 0 0 0 0 1 0 0 0 1 1 0 0 0 0 0 0 1 0 0 1 0 1 0 0 0 0 1 1 0 0 0 1 0 1 1 0 1\n",
            " 0 0 0 1 1 0 0 1 1 0 1 1 0 0 0 1 1 0 0 0 1 0 0 0 1 1 1 1 0 0 0 1 0 0 1 0 0\n",
            " 0 0 0 0 1 1]\n"
          ],
          "name": "stdout"
        }
      ]
    },
    {
      "cell_type": "code",
      "metadata": {
        "colab": {
          "base_uri": "https://localhost:8080/"
        },
        "id": "49fdi_aaewY1",
        "outputId": "5922edde-4628-4573-fd2d-e572845e10a6"
      },
      "source": [
        "from sklearn.metrics import classification_report, confusion_matrix  \n",
        " \n",
        "print(confusion_matrix(y_test, y_pred))  \n",
        "print()\n",
        "\n",
        "print(accuracy_score(y_test, y_pred))\n",
        "print()\n",
        "\n",
        "print(classification_report(y_test, y_pred))  "
      ],
      "execution_count": 27,
      "outputs": [
        {
          "output_type": "stream",
          "text": [
            "[[87 12]\n",
            " [30 25]]\n",
            "\n",
            "0.7272727272727273\n",
            "\n",
            "              precision    recall  f1-score   support\n",
            "\n",
            "           0       0.74      0.88      0.81        99\n",
            "           1       0.68      0.45      0.54        55\n",
            "\n",
            "    accuracy                           0.73       154\n",
            "   macro avg       0.71      0.67      0.67       154\n",
            "weighted avg       0.72      0.73      0.71       154\n",
            "\n"
          ],
          "name": "stdout"
        }
      ]
    },
    {
      "cell_type": "markdown",
      "metadata": {
        "id": "qjMIpSZJxmNg"
      },
      "source": [
        "Above confusion matrix shows that there are,\n",
        "\n",
        "* 87 True Negative cases\n",
        "* 25 True Positive cases\n",
        "* 12 False Positive cases\n",
        "* 30 False Negative cases"
      ]
    },
    {
      "cell_type": "code",
      "metadata": {
        "colab": {
          "base_uri": "https://localhost:8080/"
        },
        "id": "Ftqr7Arox-EM",
        "outputId": "8911ac30-8360-4fa4-ec74-87064e4ae5b8"
      },
      "source": [
        "import numpy as np\n",
        "\n",
        "print('Actual Outcome 0 :',np.sum(y_test==0))\n",
        "print('Predicted Outcome 0 :',np.sum(y_pred==0))\n",
        "print()\n",
        "\n",
        "print('Actual Outcome 1 :',np.sum(y_test==1))\n",
        "print('Predicted Outcome 1 :',np.sum(y_pred==1))"
      ],
      "execution_count": 30,
      "outputs": [
        {
          "output_type": "stream",
          "text": [
            "Actual Outcome 0 : 99\n",
            "Predicted Outcome 0 : 117\n",
            "\n",
            "Actual Outcome 1 : 55\n",
            "Predicted Outcome 1 : 37\n"
          ],
          "name": "stdout"
        }
      ]
    },
    {
      "cell_type": "markdown",
      "metadata": {
        "id": "iJjx0EF609hN"
      },
      "source": [
        "```\n",
        "Total number of correct prediction is 87 + 25 = 112\n",
        "```"
      ]
    },
    {
      "cell_type": "code",
      "metadata": {
        "colab": {
          "base_uri": "https://localhost:8080/",
          "height": 1000
        },
        "id": "cS6OQj5Ougfp",
        "outputId": "68c96419-9feb-4ab2-fcf0-8b63fc2a57a9"
      },
      "source": [
        "from sklearn.metrics import accuracy_score\n",
        "import matplotlib.pyplot as plt\n",
        "\n",
        "k = []\n",
        "accuracy = []\n",
        "for i in range(2,20,3):\n",
        "    \n",
        "    classifier = KNeighborsClassifier(n_neighbors = i)\n",
        "    classifier.fit(x_train, y_train)\n",
        "    y_pred = classifier.predict(x_test)\n",
        "    \n",
        "    print('Now K =',i)\n",
        "    print()\n",
        "    print(confusion_matrix(y_test, y_pred))\n",
        "    print()\n",
        "    \n",
        "    accuracy.append(accuracy_score(y_test, y_pred))\n",
        "    \n",
        "    print(classification_report(y_test, y_pred)) \n",
        "    print()\n",
        "\n",
        "    k.append(i)\n",
        "\n",
        "plt.plot(k,accuracy)\n",
        "plt.xlabel('K Value')\n",
        "plt.ylabel('Accuracy')\n",
        "plt.show()"
      ],
      "execution_count": 28,
      "outputs": [
        {
          "output_type": "stream",
          "text": [
            "Now K = 2\n",
            "\n",
            "[[90  9]\n",
            " [32 23]]\n",
            "\n",
            "              precision    recall  f1-score   support\n",
            "\n",
            "           0       0.74      0.91      0.81        99\n",
            "           1       0.72      0.42      0.53        55\n",
            "\n",
            "    accuracy                           0.73       154\n",
            "   macro avg       0.73      0.66      0.67       154\n",
            "weighted avg       0.73      0.73      0.71       154\n",
            "\n",
            "\n",
            "Now K = 5\n",
            "\n",
            "[[84 15]\n",
            " [22 33]]\n",
            "\n",
            "              precision    recall  f1-score   support\n",
            "\n",
            "           0       0.79      0.85      0.82        99\n",
            "           1       0.69      0.60      0.64        55\n",
            "\n",
            "    accuracy                           0.76       154\n",
            "   macro avg       0.74      0.72      0.73       154\n",
            "weighted avg       0.75      0.76      0.76       154\n",
            "\n",
            "\n",
            "Now K = 8\n",
            "\n",
            "[[88 11]\n",
            " [27 28]]\n",
            "\n",
            "              precision    recall  f1-score   support\n",
            "\n",
            "           0       0.77      0.89      0.82        99\n",
            "           1       0.72      0.51      0.60        55\n",
            "\n",
            "    accuracy                           0.75       154\n",
            "   macro avg       0.74      0.70      0.71       154\n",
            "weighted avg       0.75      0.75      0.74       154\n",
            "\n",
            "\n",
            "Now K = 11\n",
            "\n",
            "[[86 13]\n",
            " [27 28]]\n",
            "\n",
            "              precision    recall  f1-score   support\n",
            "\n",
            "           0       0.76      0.87      0.81        99\n",
            "           1       0.68      0.51      0.58        55\n",
            "\n",
            "    accuracy                           0.74       154\n",
            "   macro avg       0.72      0.69      0.70       154\n",
            "weighted avg       0.73      0.74      0.73       154\n",
            "\n",
            "\n",
            "Now K = 14\n",
            "\n",
            "[[89 10]\n",
            " [31 24]]\n",
            "\n",
            "              precision    recall  f1-score   support\n",
            "\n",
            "           0       0.74      0.90      0.81        99\n",
            "           1       0.71      0.44      0.54        55\n",
            "\n",
            "    accuracy                           0.73       154\n",
            "   macro avg       0.72      0.67      0.68       154\n",
            "weighted avg       0.73      0.73      0.72       154\n",
            "\n",
            "\n",
            "Now K = 17\n",
            "\n",
            "[[87 12]\n",
            " [30 25]]\n",
            "\n",
            "              precision    recall  f1-score   support\n",
            "\n",
            "           0       0.74      0.88      0.81        99\n",
            "           1       0.68      0.45      0.54        55\n",
            "\n",
            "    accuracy                           0.73       154\n",
            "   macro avg       0.71      0.67      0.67       154\n",
            "weighted avg       0.72      0.73      0.71       154\n",
            "\n",
            "\n"
          ],
          "name": "stdout"
        },
        {
          "output_type": "display_data",
          "data": {
            "image/png": "[encoded data removed]",
            "text/plain": [
              "<Figure size 432x288 with 1 Axes>"
            ]
          },
          "metadata": {
            "tags": [],
            "needs_background": "light"
          }
        }
      ]
    },
    {
      "cell_type": "markdown",
      "metadata": {
        "id": "A_ragsMg5egc"
      },
      "source": [
        "# KNN with Diabetes Dataset"
      ]
    },
    {
      "cell_type": "code",
      "metadata": {
        "colab": {
          "base_uri": "https://localhost:8080/",
          "height": 203
        },
        "id": "N91OtlMN5YHR",
        "outputId": "8041604a-4e67-4626-fa9c-84e506da81c6"
      },
      "source": [
        "df = pd.read_csv('/content/Diabetes.csv')\n",
        "\n",
        "df.head()"
      ],
      "execution_count": 31,
      "outputs": [
        {
          "output_type": "execute_result",
          "data": {
            "text/html": [
              "<div>\n",
              "<style scoped>\n",
              "    .dataframe tbody tr th:only-of-type {\n",
              "        vertical-align: middle;\n",
              "    }\n",
              "\n",
              "    .dataframe tbody tr th {\n",
              "        vertical-align: top;\n",
              "    }\n",
              "\n",
              "    .dataframe thead th {\n",
              "        text-align: right;\n",
              "    }\n",
              "</style>\n",
              "<table border=\"1\" class=\"dataframe\">\n",
              "  <thead>\n",
              "    <tr style=\"text-align: right;\">\n",
              "      <th></th>\n",
              "      <th>Pregnancies</th>\n",
              "      <th>Glucose</th>\n",
              "      <th>BloodPressure</th>\n",
              "      <th>SkinThickness</th>\n",
              "      <th>Insulin</th>\n",
              "      <th>BMI</th>\n",
              "      <th>DiabetesPedigreeFunction</th>\n",
              "      <th>Age</th>\n",
              "      <th>Outcome</th>\n",
              "    </tr>\n",
              "  </thead>\n",
              "  <tbody>\n",
              "    <tr>\n",
              "      <th>0</th>\n",
              "      <td>6</td>\n",
              "      <td>148</td>\n",
              "      <td>72</td>\n",
              "      <td>35</td>\n",
              "      <td>0</td>\n",
              "      <td>33.6</td>\n",
              "      <td>0.627</td>\n",
              "      <td>50</td>\n",
              "      <td>1</td>\n",
              "    </tr>\n",
              "    <tr>\n",
              "      <th>1</th>\n",
              "      <td>1</td>\n",
              "      <td>85</td>\n",
              "      <td>66</td>\n",
              "      <td>29</td>\n",
              "      <td>0</td>\n",
              "      <td>26.6</td>\n",
              "      <td>0.351</td>\n",
              "      <td>31</td>\n",
              "      <td>0</td>\n",
              "    </tr>\n",
              "    <tr>\n",
              "      <th>2</th>\n",
              "      <td>8</td>\n",
              "      <td>183</td>\n",
              "      <td>64</td>\n",
              "      <td>0</td>\n",
              "      <td>0</td>\n",
              "      <td>23.3</td>\n",
              "      <td>0.672</td>\n",
              "      <td>32</td>\n",
              "      <td>1</td>\n",
              "    </tr>\n",
              "    <tr>\n",
              "      <th>3</th>\n",
              "      <td>1</td>\n",
              "      <td>89</td>\n",
              "      <td>66</td>\n",
              "      <td>23</td>\n",
              "      <td>94</td>\n",
              "      <td>28.1</td>\n",
              "      <td>0.167</td>\n",
              "      <td>21</td>\n",
              "      <td>0</td>\n",
              "    </tr>\n",
              "    <tr>\n",
              "      <th>4</th>\n",
              "      <td>0</td>\n",
              "      <td>137</td>\n",
              "      <td>40</td>\n",
              "      <td>35</td>\n",
              "      <td>168</td>\n",
              "      <td>43.1</td>\n",
              "      <td>2.288</td>\n",
              "      <td>33</td>\n",
              "      <td>1</td>\n",
              "    </tr>\n",
              "  </tbody>\n",
              "</table>\n",
              "</div>"
            ],
            "text/plain": [
              "   Pregnancies  Glucose  BloodPressure  ...  DiabetesPedigreeFunction  Age  Outcome\n",
              "0            6      148             72  ...                     0.627   50        1\n",
              "1            1       85             66  ...                     0.351   31        0\n",
              "2            8      183             64  ...                     0.672   32        1\n",
              "3            1       89             66  ...                     0.167   21        0\n",
              "4            0      137             40  ...                     2.288   33        1\n",
              "\n",
              "[5 rows x 9 columns]"
            ]
          },
          "metadata": {
            "tags": []
          },
          "execution_count": 31
        }
      ]
    },
    {
      "cell_type": "code",
      "metadata": {
        "colab": {
          "base_uri": "https://localhost:8080/"
        },
        "id": "eC-JdYsn5mT_",
        "outputId": "689cfeed-1a92-463b-c82f-a8cb69d864fd"
      },
      "source": [
        "from sklearn.model_selection import train_test_split\n",
        "  \n",
        "arr = df.values\n",
        "\n",
        "X = arr[:,0:8]\n",
        "Y = arr[:,8]\n",
        "\n",
        "x_train, x_test, y_train, y_test = train_test_split(X, Y, test_size = 0.20, random_state=1)  \n",
        "\n",
        "print(x_test)"
      ],
      "execution_count": 41,
      "outputs": [
        {
          "output_type": "stream",
          "text": [
            "[[7.00e+00 1.36e+02 7.40e+01 ... 2.60e+01 6.47e-01 5.10e+01]\n",
            " [1.00e+00 1.51e+02 6.00e+01 ... 2.61e+01 1.79e-01 2.20e+01]\n",
            " [6.00e+00 1.09e+02 6.00e+01 ... 2.50e+01 2.06e-01 2.70e+01]\n",
            " ...\n",
            " [8.00e+00 1.88e+02 7.80e+01 ... 4.79e+01 1.37e-01 4.30e+01]\n",
            " [5.00e+00 1.36e+02 8.20e+01 ... 0.00e+00 6.40e-01 6.90e+01]\n",
            " [4.00e+00 9.00e+01 0.00e+00 ... 2.80e+01 6.10e-01 3.10e+01]]\n"
          ],
          "name": "stdout"
        }
      ]
    },
    {
      "cell_type": "code",
      "metadata": {
        "colab": {
          "base_uri": "https://localhost:8080/",
          "height": 417
        },
        "id": "FAQ7wd5t5x5n",
        "outputId": "7d81ef96-c469-4ccc-d298-726573cbadee"
      },
      "source": [
        "Dist = []\n",
        "row_id = 0\n",
        "index = 0\n",
        "\n",
        "euclidean = pd.DataFrame(columns=['Row ID of X Train', 'Row ID of X Test','Distance', 'Outcome'])\n",
        "\n",
        "for i in range(len(x_train)):\n",
        "    \n",
        "    d = []\n",
        "    \n",
        "    for j in range(len(x_test)):\n",
        "        l = [i,j]\n",
        "\n",
        "        diff = x_train[i] - x_test[j]\n",
        "        dist = np.linalg.norm(diff)\n",
        "\n",
        "        l.append(dist)\n",
        "        l.append(y_train[i])\n",
        "\n",
        "        euclidean.loc[index] = l\n",
        "        index += 1\n",
        "        \n",
        "        d.append(dist)\n",
        "    \n",
        "    Dist.extend(d)\n",
        "\n",
        "euclidean"
      ],
      "execution_count": 35,
      "outputs": [
        {
          "output_type": "execute_result",
          "data": {
            "text/html": [
              "<div>\n",
              "<style scoped>\n",
              "    .dataframe tbody tr th:only-of-type {\n",
              "        vertical-align: middle;\n",
              "    }\n",
              "\n",
              "    .dataframe tbody tr th {\n",
              "        vertical-align: top;\n",
              "    }\n",
              "\n",
              "    .dataframe thead th {\n",
              "        text-align: right;\n",
              "    }\n",
              "</style>\n",
              "<table border=\"1\" class=\"dataframe\">\n",
              "  <thead>\n",
              "    <tr style=\"text-align: right;\">\n",
              "      <th></th>\n",
              "      <th>Row ID of X Train</th>\n",
              "      <th>Row ID of X Test</th>\n",
              "      <th>Distance</th>\n",
              "      <th>Outcome</th>\n",
              "    </tr>\n",
              "  </thead>\n",
              "  <tbody>\n",
              "    <tr>\n",
              "      <th>0</th>\n",
              "      <td>0.0</td>\n",
              "      <td>0.0</td>\n",
              "      <td>28.436070</td>\n",
              "      <td>1.0</td>\n",
              "    </tr>\n",
              "    <tr>\n",
              "      <th>1</th>\n",
              "      <td>0.0</td>\n",
              "      <td>1.0</td>\n",
              "      <td>141.348682</td>\n",
              "      <td>1.0</td>\n",
              "    </tr>\n",
              "    <tr>\n",
              "      <th>2</th>\n",
              "      <td>0.0</td>\n",
              "      <td>2.0</td>\n",
              "      <td>138.930183</td>\n",
              "      <td>1.0</td>\n",
              "    </tr>\n",
              "    <tr>\n",
              "      <th>3</th>\n",
              "      <td>0.0</td>\n",
              "      <td>3.0</td>\n",
              "      <td>156.103828</td>\n",
              "      <td>1.0</td>\n",
              "    </tr>\n",
              "    <tr>\n",
              "      <th>4</th>\n",
              "      <td>0.0</td>\n",
              "      <td>4.0</td>\n",
              "      <td>62.659875</td>\n",
              "      <td>1.0</td>\n",
              "    </tr>\n",
              "    <tr>\n",
              "      <th>...</th>\n",
              "      <td>...</td>\n",
              "      <td>...</td>\n",
              "      <td>...</td>\n",
              "      <td>...</td>\n",
              "    </tr>\n",
              "    <tr>\n",
              "      <th>94551</th>\n",
              "      <td>613.0</td>\n",
              "      <td>149.0</td>\n",
              "      <td>61.204806</td>\n",
              "      <td>1.0</td>\n",
              "    </tr>\n",
              "    <tr>\n",
              "      <th>94552</th>\n",
              "      <td>613.0</td>\n",
              "      <td>150.0</td>\n",
              "      <td>142.338699</td>\n",
              "      <td>1.0</td>\n",
              "    </tr>\n",
              "    <tr>\n",
              "      <th>94553</th>\n",
              "      <td>613.0</td>\n",
              "      <td>151.0</td>\n",
              "      <td>94.890878</td>\n",
              "      <td>1.0</td>\n",
              "    </tr>\n",
              "    <tr>\n",
              "      <th>94554</th>\n",
              "      <td>613.0</td>\n",
              "      <td>152.0</td>\n",
              "      <td>64.717931</td>\n",
              "      <td>1.0</td>\n",
              "    </tr>\n",
              "    <tr>\n",
              "      <th>94555</th>\n",
              "      <td>613.0</td>\n",
              "      <td>153.0</td>\n",
              "      <td>86.965585</td>\n",
              "      <td>1.0</td>\n",
              "    </tr>\n",
              "  </tbody>\n",
              "</table>\n",
              "<p>94556 rows × 4 columns</p>\n",
              "</div>"
            ],
            "text/plain": [
              "       Row ID of X Train  Row ID of X Test    Distance  Outcome\n",
              "0                    0.0               0.0   28.436070      1.0\n",
              "1                    0.0               1.0  141.348682      1.0\n",
              "2                    0.0               2.0  138.930183      1.0\n",
              "3                    0.0               3.0  156.103828      1.0\n",
              "4                    0.0               4.0   62.659875      1.0\n",
              "...                  ...               ...         ...      ...\n",
              "94551              613.0             149.0   61.204806      1.0\n",
              "94552              613.0             150.0  142.338699      1.0\n",
              "94553              613.0             151.0   94.890878      1.0\n",
              "94554              613.0             152.0   64.717931      1.0\n",
              "94555              613.0             153.0   86.965585      1.0\n",
              "\n",
              "[94556 rows x 4 columns]"
            ]
          },
          "metadata": {
            "tags": []
          },
          "execution_count": 35
        }
      ]
    },
    {
      "cell_type": "code",
      "metadata": {
        "colab": {
          "base_uri": "https://localhost:8080/",
          "height": 203
        },
        "id": "7XOmjNL46vy_",
        "outputId": "96ab76a0-ac12-4474-e409-609b24c1b28b"
      },
      "source": [
        "matrix = euclidean.values\n",
        "\n",
        "sorted_matrix = matrix[matrix[:,2].argsort()]\n",
        "\n",
        "data = pd.DataFrame(sorted_matrix,columns=['Row ID of X Train', 'Row ID of X Test','Distance','Outcome'])\n",
        "\n",
        "data.head()"
      ],
      "execution_count": 38,
      "outputs": [
        {
          "output_type": "execute_result",
          "data": {
            "text/html": [
              "<div>\n",
              "<style scoped>\n",
              "    .dataframe tbody tr th:only-of-type {\n",
              "        vertical-align: middle;\n",
              "    }\n",
              "\n",
              "    .dataframe tbody tr th {\n",
              "        vertical-align: top;\n",
              "    }\n",
              "\n",
              "    .dataframe thead th {\n",
              "        text-align: right;\n",
              "    }\n",
              "</style>\n",
              "<table border=\"1\" class=\"dataframe\">\n",
              "  <thead>\n",
              "    <tr style=\"text-align: right;\">\n",
              "      <th></th>\n",
              "      <th>Row ID of X Train</th>\n",
              "      <th>Row ID of X Test</th>\n",
              "      <th>Distance</th>\n",
              "      <th>Outcome</th>\n",
              "    </tr>\n",
              "  </thead>\n",
              "  <tbody>\n",
              "    <tr>\n",
              "      <th>0</th>\n",
              "      <td>67.0</td>\n",
              "      <td>18.0</td>\n",
              "      <td>3.586227</td>\n",
              "      <td>0.0</td>\n",
              "    </tr>\n",
              "    <tr>\n",
              "      <th>1</th>\n",
              "      <td>440.0</td>\n",
              "      <td>29.0</td>\n",
              "      <td>3.834006</td>\n",
              "      <td>1.0</td>\n",
              "    </tr>\n",
              "    <tr>\n",
              "      <th>2</th>\n",
              "      <td>359.0</td>\n",
              "      <td>100.0</td>\n",
              "      <td>4.240072</td>\n",
              "      <td>0.0</td>\n",
              "    </tr>\n",
              "    <tr>\n",
              "      <th>3</th>\n",
              "      <td>281.0</td>\n",
              "      <td>61.0</td>\n",
              "      <td>4.244632</td>\n",
              "      <td>0.0</td>\n",
              "    </tr>\n",
              "    <tr>\n",
              "      <th>4</th>\n",
              "      <td>137.0</td>\n",
              "      <td>137.0</td>\n",
              "      <td>4.275231</td>\n",
              "      <td>1.0</td>\n",
              "    </tr>\n",
              "  </tbody>\n",
              "</table>\n",
              "</div>"
            ],
            "text/plain": [
              "   Row ID of X Train  Row ID of X Test  Distance  Outcome\n",
              "0               67.0              18.0  3.586227      0.0\n",
              "1              440.0              29.0  3.834006      1.0\n",
              "2              359.0             100.0  4.240072      0.0\n",
              "3              281.0              61.0  4.244632      0.0\n",
              "4              137.0             137.0  4.275231      1.0"
            ]
          },
          "metadata": {
            "tags": []
          },
          "execution_count": 38
        }
      ]
    },
    {
      "cell_type": "code",
      "metadata": {
        "colab": {
          "base_uri": "https://localhost:8080/"
        },
        "id": "n2pXENOd6_B3",
        "outputId": "d815e626-6374-49d1-e519-193d7e31cc58"
      },
      "source": [
        "y_pred = []\n",
        "\n",
        "for i in range(X_test.shape[0]):\n",
        "\n",
        "    out = data.loc[data['Row ID of X Test']==i].iloc[:5,:]['Outcome'].sum()\n",
        "    \n",
        "    if out > 2:\n",
        "        y_pred.append(1)\n",
        "    \n",
        "    else:\n",
        "        y_pred.append(0)\n",
        "\n",
        "accuracy_score(y_test,y_pred)"
      ],
      "execution_count": 40,
      "outputs": [
        {
          "output_type": "execute_result",
          "data": {
            "text/plain": [
              "0.7337662337662337"
            ]
          },
          "metadata": {
            "tags": []
          },
          "execution_count": 40
        }
      ]
    }
  ]
}